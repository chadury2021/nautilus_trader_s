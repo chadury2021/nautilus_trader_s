{
 "cells": [
  {
   "cell_type": "code",
   "execution_count": null,
   "metadata": {
    "pycharm": {
     "is_executing": true
    }
   },
   "outputs": [],
   "source": [
    "from datetime import date\n",
    "import pandas as pd\n",
    "from gs_quant.instrument import FXOption\n",
    "from gs_quant.common import BuySell, OptionType\n",
    "from gs_quant.backtests.triggers import MktTrigger, MktTriggerRequirements, TriggerDirection\n",
    "from gs_quant.backtests.actions import AddTradeAction\n",
    "from gs_quant.backtests.generic_engine import GenericEngine\n",
    "from gs_quant.backtests.strategy import Strategy\n",
    "from gs_quant.backtests.data_sources import GenericDataSource, MissingDataStrategy\n",
    "from gs_quant.data import Dataset\n",
    "from gs_quant.risk import Price"
   ]
  },
  {
   "cell_type": "code",
   "execution_count": null,
   "metadata": {
    "pycharm": {
     "is_executing": true
    }
   },
   "outputs": [],
   "source": [
    "# Initialize session\n",
    "from gs_quant.session import GsSession\n",
    "GsSession.use(client_id=None, client_secret=None, scopes=('run_analytics','read_product_data')) "
   ]
  },
  {
   "cell_type": "markdown",
   "metadata": {},
   "source": [
    "### Buy 1m USDCNH Put if spot below 6.42"
   ]
  },
  {
   "cell_type": "code",
   "execution_count": null,
   "metadata": {
    "pycharm": {
     "is_executing": true
    }
   },
   "outputs": [],
   "source": [
    "# Define backtest dates\n",
    "start_date = date(2021, 8, 1)\n",
    "end_date = date(2022, 2, 1)"
   ]
  },
  {
   "cell_type": "code",
   "execution_count": null,
   "metadata": {
    "pycharm": {
     "is_executing": true
    }
   },
   "outputs": [],
   "source": [
    "# Define instrument for strategy\n",
    "\n",
    "# FX Option\n",
    "put = FXOption(buy_sell=BuySell.Buy, option_type=OptionType.Put, pair='USDCNH', strike_price='ATMF', \n",
    "               expiration_date='1m', name='1m_put')"
   ]
  },
  {
   "cell_type": "markdown",
   "metadata": {},
   "source": [
    "##### Dataset from Marquee Data Catalog: https://marquee.gs.com/s/developer/datasets/FXSPOT_PREMIUM"
   ]
  },
  {
   "cell_type": "code",
   "execution_count": null,
   "metadata": {
    "pycharm": {
     "is_executing": true
    }
   },
   "outputs": [],
   "source": [
    "# Get data set for USDCNH spot\n",
    "ds = Dataset('FXSPOT_PREMIUM')\n",
    "data = ds.get_data(start_date, assetId=['MAEFRJZ9NYGDDR41'])\n",
    "s = pd.Series(data['spot'].to_dict())\n",
    "data_source = GenericDataSource(s, MissingDataStrategy.fill_forward) "
   ]
  },
  {
   "cell_type": "code",
   "execution_count": null,
   "metadata": {},
   "outputs": [],
   "source": [
    "# View historical spot data\n",
    "s.plot(figsize=(10, 6), title='USDCNH Spot')"
   ]
  },
  {
   "cell_type": "code",
   "execution_count": null,
   "metadata": {},
   "outputs": [],
   "source": [
    "# Define trade to add\n",
    "action_add = AddTradeAction(put)\n",
    "\n",
    "# Define market trigger strategy\n",
    "mkt_trigger = MktTrigger(MktTriggerRequirements(data_source, 6.42, TriggerDirection.BELOW), action_add)\n",
    "strategy = Strategy(None, mkt_trigger)\n",
    "\n",
    "# Run backtest daily\n",
    "GE = GenericEngine()\n",
    "backtest = GE.run_backtest(strategy, start=start_date, end=end_date, frequency='1b', show_progress=True)"
   ]
  },
  {
   "cell_type": "code",
   "execution_count": null,
   "metadata": {},
   "outputs": [],
   "source": [
    "# View backtest trade ledger\n",
    "backtest.trade_ledger()"
   ]
  },
  {
   "cell_type": "code",
   "execution_count": null,
   "metadata": {},
   "outputs": [],
   "source": [
    "# View results summary\n",
    "backtest.result_summary"
   ]
  },
  {
   "cell_type": "code",
   "execution_count": null,
   "metadata": {},
   "outputs": [],
   "source": [
    "# View Performance\n",
    "pd.DataFrame({'Generic backtester': backtest.result_summary['Cumulative Cash'] + backtest.result_summary[Price]}).plot(figsize=(10, 6), title='Performance')"
   ]
  },
  {
   "cell_type": "code",
   "execution_count": null,
   "metadata": {},
   "outputs": [],
   "source": []
  }
 ],
 "metadata": {
  "kernelspec": {
   "display_name": "Python 3 (ipykernel)",
   "language": "python",
   "name": "python3"
  },
  "language_info": {
   "codemirror_mode": {
    "name": "ipython",
    "version": 3
   },
   "file_extension": ".py",
   "mimetype": "text/x-python",
   "name": "python",
   "nbconvert_exporter": "python",
   "pygments_lexer": "ipython3",
   "version": "3.7.4"
  }
 },
 "nbformat": 4,
 "nbformat_minor": 1
}