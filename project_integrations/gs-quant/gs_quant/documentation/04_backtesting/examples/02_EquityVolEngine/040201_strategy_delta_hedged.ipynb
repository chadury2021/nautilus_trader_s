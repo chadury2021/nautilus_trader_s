{
 "cells": [
  {
   "cell_type": "code",
   "execution_count": null,
   "metadata": {},
   "outputs": [],
   "source": [
    "from gs_quant.session import GsSession, Environment\n",
    "from gs_quant.instrument import EqOption, OptionType, OptionStyle\n",
    "from gs_quant.backtests.strategy import Strategy\n",
    "from gs_quant.backtests.triggers import *\n",
    "from gs_quant.backtests.actions import *\n",
    "from gs_quant.backtests.equity_vol_engine import *\n",
    "from gs_quant.target.common import UnderlierType\n",
    "from datetime import date"
   ]
  },
  {
   "cell_type": "code",
   "execution_count": null,
   "metadata": {},
   "outputs": [],
   "source": [
    "# external users should substitute their client id and secret; please skip this step if using internal jupyterhub\n",
    "GsSession.use(Environment.PROD, client_id=None, client_secret=None, scopes=('run_analytics',))"
   ]
  },
  {
   "cell_type": "code",
   "execution_count": null,
   "metadata": {
    "collapsed": false,
    "jupyter": {
     "outputs_hidden": false
    },
    "pycharm": {
     "name": "#%%\n"
    }
   },
   "outputs": [],
   "source": [
    "# Define backtest dates\n",
    "start_date = date(2019, 9, 4)\n",
    "end_date = date(2020, 9, 4)"
   ]
  },
  {
   "cell_type": "code",
   "execution_count": null,
   "metadata": {
    "collapsed": false,
    "jupyter": {
     "outputs_hidden": false
    },
    "pycharm": {
     "name": "#%%\n"
    }
   },
   "outputs": [],
   "source": [
    "# Define option instruments for strategy\n",
    "option = EqOption('SX5E', underlierType=UnderlierType.BBID, expirationDate='3m', strikePrice='ATM', optionType=OptionType.Call, optionStyle=OptionStyle.European)\n",
    "\n",
    "long_call = EqOption('SX5E', underlierType=UnderlierType.BBID, expiration_date='3m', strike_price='ATM', option_type=OptionType.Call,\n",
    "                     option_style=OptionStyle.European, buy_sell=BuySell.Buy)\n",
    "short_put = EqOption('SX5E', underlierType=UnderlierType.BBID, expiration_date='3m', strike_price='ATM', option_type=OptionType.Put,\n",
    "                     option_style=OptionStyle.European, buy_sell=BuySell.Sell)\n",
    "\n",
    "hedge_portfolio = Portfolio(name='SynFwd', priceables=[long_call, short_put])"
   ]
  },
  {
   "cell_type": "code",
   "execution_count": null,
   "metadata": {
    "collapsed": false,
    "jupyter": {
     "outputs_hidden": false
    },
    "pycharm": {
     "name": "#%%\n"
    }
   },
   "outputs": [],
   "source": [
    "# Define a periodic trade trigger and action.  \n",
    "\n",
    "# Trade and roll 1000 units of the option instrument every 1m\n",
    "trade_action = EnterPositionQuantityScaledAction(priceables=option, trade_duration='1m', trade_quantity=1000, trade_quantity_type=BacktestTradingQuantityType.quantity)\n",
    "trade_trigger = PeriodicTrigger(trigger_requirements=PeriodicTriggerRequirements(start_date=start_date, end_date=end_date, frequency='1m'), \n",
    "                               actions=trade_action)\n",
    "\n",
    "# Hedge option delta every day using the synthetic forward\n",
    "hedge_action = HedgeAction(EqDelta, priceables=hedge_portfolio, trade_duration='1b')\n",
    "hedge_trigger = PeriodicTrigger(trigger_requirements=PeriodicTriggerRequirements(start_date=start_date, end_date=end_date, frequency='1b'),\n",
    "                               actions=hedge_action)\n"
   ]
  },
  {
   "cell_type": "code",
   "execution_count": null,
   "metadata": {},
   "outputs": [],
   "source": [
    "# Create strategy\n",
    "strategy = Strategy(initial_portfolio=None, triggers=[trade_trigger, hedge_trigger])"
   ]
  },
  {
   "cell_type": "code",
   "execution_count": null,
   "metadata": {},
   "outputs": [],
   "source": [
    "# Run backtest\n",
    "backtest = EquityVolEngine.run_backtest(strategy, start=start_date, end=end_date)"
   ]
  },
  {
   "cell_type": "code",
   "execution_count": null,
   "metadata": {},
   "outputs": [],
   "source": [
    "# Plot the performance\n",
    "pnl = backtest.get_measure_series(FlowVolBacktestMeasure.PNL)\n",
    "pnl.plot(legend=True, label='PNL')"
   ]
  }
 ],
 "metadata": {
  "kernelspec": {
   "display_name": "Python 3 (ipykernel)",
   "language": "python",
   "name": "python3"
  },
  "language_info": {
   "codemirror_mode": {
    "name": "ipython",
    "version": 3
   },
   "file_extension": ".py",
   "mimetype": "text/x-python",
   "name": "python",
   "nbconvert_exporter": "python",
   "pygments_lexer": "ipython3",
   "version": "3.8.6"
  },
  "pycharm": {
   "stem_cell": {
    "cell_type": "raw",
    "metadata": {
     "collapsed": false
    },
    "source": []
   }
  }
 },
 "nbformat": 4,
 "nbformat_minor": 4
}
