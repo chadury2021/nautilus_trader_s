{
 "cells": [
  {
   "cell_type": "code",
   "execution_count": null,
   "metadata": {},
   "outputs": [],
   "source": [
    "from gs_quant.markets.indices_utils import *\n",
    "from gs_quant.session import Environment, GsSession"
   ]
  },
  {
   "cell_type": "code",
   "execution_count": null,
   "metadata": {},
   "outputs": [],
   "source": [
    "client = 'CLIENT ID'\n",
    "secret = 'CLIENT SECRET'\n",
    "\n",
    "GsSession.use(Environment.PROD, client_id=client, client_secret=secret, scopes=('read_product_data',))"
   ]
  },
  {
   "cell_type": "markdown",
   "metadata": {},
   "source": [
    "You may choose any combination of the following styles:\n",
    "\n",
    "#### Custom Basket Styles\n",
    "* **Ad Hoc Desk Work:** CustomBasketStyles.*AD_HOC_DESK_WORK*\n",
    "* **Client Constructed/Wrapper:** CustomBasketStyles.*CLIENT_CONSTRUCTED_WRAPPER*\n",
    "* **Consumer:** CustomBasketStyles.*CONSUMER*\n",
    "* **Energy:** CustomBasketStyles.*ENERGY*\n",
    "* **Enhanced Index Solutions:** CustomBasketStyles.*ENHANCED_INDEX_SOLUTIONS*\n",
    "* **ESG:** CustomBasketStyles.*ESG*\n",
    "* **Factors:** CustomBasketStyles.*FACTORS*\n",
    "* **Financials:** CustomBasketStyles.*FINANCIALS*\n",
    "* **Flagship:** CustomBasketStyles.*FLAGSHIP*\n",
    "* **Geographic:** CustomBasketStyles.*GEOGRAPHIC*\n",
    "* **Growth:** CustomBasketStyles.*GROWTH*\n",
    "* **Health Care:** CustomBasketStyles.*HEALTHCARE*\n",
    "* **Hedging:** CustomBasketStyles.*HEDGING*\n",
    "* **Industrials:** CustomBasketStyles.*INDUSTRIALS*\n",
    "* **Materials:** CustomBasketStyles.*MATERIALS*\n",
    "* **Momentum:** CustomBasketStyles.*MOMENTUM*\n",
    "* **PIPG:** CustomBasketStyles.*PIPG*\n",
    "* **Sectors/Industries:** CustomBasketStyles.*SECTORS_INDUSTRIES*\n",
    "* **Size:** CustomBasketStyles.*SIZE*\n",
    "* **Structured One Delta:** CustomBasketStyles.*STRUCTURED_ONE_DELTA*\n",
    "* **Thematic:** CustomBasketStyles.*THEMATIC*\n",
    "* **TMT:** CustomBasketStyles.*TMT*\n",
    "* **Utilities:** CustomBasketStyles.*UTILITIES*\n",
    "* **Value:** CustomBasketStyles.*VALUE*\n",
    "* **Volatility:** CustomBasketStyles.*VOLATILITY*\n",
    "\n",
    "#### Research Basket Styles\n",
    "* **Asia ex-Japan:** ResearchBasketStyles.*ASIA_EX_JAPAN*\n",
    "* **Equity Thematic:** ResearchBasketStyles.*EQUITY_THEMATIC*\n",
    "* **Europe:** ResearchBasketStyles.*EUROPE*\n",
    "* **Fund Ownership:** ResearchBasketStyles.*FUND_OWNERSHIP*\n",
    "* **Fundamentals:** ResearchBasketStyles.*FUNDAMENTALS*\n",
    "* **FX/Oil:** ResearchBasketStyles.*FX_OIL*\n",
    "* **Geographical Exposure:** ResearchBasketStyles.*GEOGRAPHICAL_EXPOSURE*\n",
    "* **Hedge Fund:** ResearchBasketStyles.*HEDGE_FUND*\n",
    "* **Investment Profile (IP) Factors:** ResearchBasketStyles.*IP_FACTORS*\n",
    "* **Japan:** ResearchBasketStyles.*JAPAN*\n",
    "* **Macro:** ResearchBasketStyles.*MACRO*\n",
    "* **Macro Slice/Styles:** ResearchBasketStyles.*MACRO_SLICE_STYLES*\n",
    "* **Mutual Fund:** ResearchBasketStyles.*MUTUAL_FUND*\n",
    "* **Positioning:** ResearchBasketStyles.*POSITIONING*\n",
    "* **Portfolio Strategy:** ResearchBasketStyles.*PORTFOLIO_STRATEGY*\n",
    "* **Risk & Liquidity:** ResearchBasketStyles.*RISK_AND_LIQUIDITY*\n",
    "* **Sector:** ResearchBasketStyles.*SECTOR*\n",
    "* **Shareholder Return:** ResearchBasketStyles.*SHAREHOLDER_RETURN*\n",
    "* **Style, Factor and Fundamental:** ResearchBasketStyles.*STYLE_FACTOR_AND_FUNDAMENTAL*\n",
    "* **Style/Themes:** ResearchBasketStyles.*STYLES_THEMES*\n",
    "* **Tactical Research:** ResearchBasketStyles.*TACTICAL_RESEARCH*\n",
    "* **Thematic:** ResearchBasketStyles.*THEMATIC*\n",
    "* **US:** ResearchBasketStyles.*US*\n",
    "* **Wavefront Components:** ResearchBasketStyles.*WAVEFRONT_COMPONENTS*\n",
    "* **Wavefront Pairs:** ResearchBasketStyles.*WAVEFRONT_PAIRS*\n",
    "* **Wavefronts:** ResearchBasketStyles.*WAVEFRONTS*\n",
    "\n",
    "These options will work with any of the following functions:"
   ]
  },
  {
   "cell_type": "code",
   "execution_count": null,
   "metadata": {},
   "outputs": [],
   "source": [
    "get_flagship_baskets(styles=[CustomBasketStyles.FACTORS, ResearchBasketStyles.WAVEFRONTS])\n",
    "\n",
    "get_flagships_with_assets(identifiers=['AAPL UW'], region=[Region.AMERICAS], styles=[CustomBasketStyles.FACTORS, ResearchBasketStyles.WAVEFRONTS])\n",
    "\n",
    "get_flagships_performance(region=[Region.EUROPE, Region.GLOBAL], styles=[CustomBasketStyles.FACTORS, ResearchBasketStyles.WAVEFRONTS])\n",
    "\n",
    "get_flagships_constituents(region=[Region.EM], styles=[CustomBasketStyles.FACTORS, ResearchBasketStyles.WAVEFRONTS])"
   ]
  }
 ],
 "metadata": {
  "kernelspec": {
   "display_name": "Python 3",
   "language": "python",
   "name": "python3"
  },
  "language_info": {
   "codemirror_mode": {
    "name": "ipython",
    "version": 3
   },
   "file_extension": ".py",
   "mimetype": "text/x-python",
   "name": "python",
   "nbconvert_exporter": "python",
   "pygments_lexer": "ipython3",
   "version": "3.7.4"
  }
 },
 "nbformat": 4,
 "nbformat_minor": 4
}
