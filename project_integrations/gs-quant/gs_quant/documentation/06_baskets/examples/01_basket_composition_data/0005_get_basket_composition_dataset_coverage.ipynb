{
 "cells": [
  {
   "cell_type": "code",
   "execution_count": 9,
   "metadata": {},
   "outputs": [],
   "source": [
    "import pandas as pd\n",
    "\n",
    "from gs_quant.api.gs.assets import GsAssetApi\n",
    "from gs_quant.markets.indices_utils import BasketType\n",
    "from gs_quant.session import Environment, GsSession\n",
    "\n",
    "client = 'CLIENT_ID'\n",
    "secret = 'CLIENT_SECRET'\n",
    "\n",
    "GsSession.use(Environment.PROD, client_id=client, client_secret=secret, scopes=('read_product_data',))"
   ]
  },
  {
   "cell_type": "code",
   "execution_count": 13,
   "metadata": {},
   "outputs": [],
   "source": [
    "fields = ['id', 'name', 'region', 'ticker', 'type']\n",
    "\n",
    "custom_baskets = GsAssetApi.get_many_assets_data_scroll(fields=fields, listed=[True], type=[BasketType.CUSTOM_BASKET])\n",
    "research_baskets = GsAssetApi.get_many_assets_data_scroll(fields=fields, listed=[True], type=[BasketType.RESEARCH_BASKET])\n",
    "\n",
    "GSBASKETCONSTITUENTS_COVERAGE = pd.DataFrame(custom_baskets)\n",
    "GIRBASKETCONSTITUENTS_COVERAGE = pd.DataFrame(research_baskets)"
   ]
  }
 ],
 "metadata": {
  "kernelspec": {
   "display_name": "Python 3",
   "language": "python",
   "name": "python3"
  },
  "language_info": {
   "codemirror_mode": {
    "name": "ipython",
    "version": 3
   },
   "file_extension": ".py",
   "mimetype": "text/x-python",
   "name": "python",
   "nbconvert_exporter": "python",
   "pygments_lexer": "ipython3",
   "version": "3.7.4"
  }
 },
 "nbformat": 4,
 "nbformat_minor": 4
}
