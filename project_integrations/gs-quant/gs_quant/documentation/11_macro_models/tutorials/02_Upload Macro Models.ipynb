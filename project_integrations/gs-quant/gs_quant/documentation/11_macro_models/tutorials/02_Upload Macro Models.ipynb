{
 "cells": [
  {
   "cell_type": "code",
   "execution_count": null,
   "outputs": [],
   "source": [
    "from gs_quant.session import Environment, GsSession\n",
    "# external users should substitute their client id and secret; please skip this step if using internal jupyterhub\n",
    "GsSession.use(Environment.PROD, client_id=None, client_secret=None)"
   ],
   "metadata": {
    "collapsed": false,
    "pycharm": {
     "name": "#%%\n"
    }
   }
  },
  {
   "cell_type": "markdown",
   "source": [
    "# Macro Models\n",
    "\n",
    "The GS Quant `MacroRiskModel` class gives users the power to upload their own risk models to Marquee for seamless integration with the Marquee Portfolio Analytics and Plot Tool Pro suite. After uploading a custom `MacroRiskModel`, users can access their Macro model data programmatically using GS Quant."
   ],
   "metadata": {
    "collapsed": false
   }
  },
  {
   "cell_type": "markdown",
   "source": [
    "## Create a Macro Model\n",
    "\n",
    "Input fields to create the initial Macro Risk Model object\n",
    "\n",
    "| Attribute       |Can be Modified    |Description\n",
    "|-----------------|-------------------|-------------\n",
    "| id              | No                |Model id|\n",
    "| name            | Yes               |Name of model|\n",
    "| description     | Yes               |Longer description of model|\n",
    "| term            | Yes               |Term or horizon of model. One of: Long, Medium, Short|\n",
    "| coverage        | Yes               |Geographical coverage of assets within model universe. One of: Global, Region, Region Excluding Countries, Country|\n",
    "| vendor          | Yes               |Who creates the model|\n",
    "| version         | Yes               |Version of model|\n",
    "| identifier      | No                |Identifier used to upload the model's asset universe. One of: sedol, cusip, bcid, gsid|\n",
    "| entitlements    | Yes               |Who can manage, edit, and view the risk model|\n"
   ],
   "metadata": {
    "collapsed": false
   }
  },
  {
   "cell_type": "code",
   "execution_count": null,
   "outputs": [],
   "source": [
    "from gs_quant.models.risk_model import MacroRiskModel, RiskModelCalendar, Term, CoverageType, UniverseIdentifier\n",
    "\n",
    "model_id = 'MY_MODEL'\n",
    "model_name = 'My Risk Model'\n",
    "description = 'My Custom Macro Risk Model'\n",
    "term = Term.Medium\n",
    "coverage = CoverageType.Country\n",
    "universe_identifier = UniverseIdentifier.sedol\n",
    "vendor = 'Goldman Sachs'"
   ],
   "metadata": {
    "collapsed": false,
    "pycharm": {
     "name": "#%%\n"
    }
   }
  },
  {
   "cell_type": "code",
   "execution_count": null,
   "outputs": [],
   "source": [
    "# create model with inputs\n",
    "\n",
    "model = MacroRiskModel(\n",
    "    id_=model_id,\n",
    "    name=model_name,\n",
    "    description=description,\n",
    "    coverage=coverage,\n",
    "    term=term,\n",
    "    universe_identifier=universe_identifier,\n",
    "    vendor=vendor,\n",
    "    version=1,\n",
    ")\n",
    "\n",
    "model.save()"
   ],
   "metadata": {
    "collapsed": false,
    "pycharm": {
     "name": "#%%\n"
    }
   }
  },
  {
   "cell_type": "markdown",
   "source": [
    "## Upload a Calendar To Your Model\n",
    "The calendar associated with the Macro Risk Model contains the dates which the risk model should have posted data on to be considered \"complete.\" The calendar can go further back as well as forward in time than the data that is currently posted for the calendar, but there cannot be any gaps in the data posted to the risk model according to the calendar."
   ],
   "metadata": {
    "collapsed": false
   }
  },
  {
   "cell_type": "code",
   "execution_count": null,
   "outputs": [],
   "source": [
    "calendar = RiskModelCalendar([\n",
    "    '2021-01-29', '2021-01-28', '2021-01-27', '2021-01-26', '2021-01-25', '2021-01-22', '2021-01-21',\n",
    "    '2021-01-20', '2021-01-19', '2021-01-18', '2021-01-15', '2021-01-14', '2021-01-13', '2021-01-12',\n",
    "    '2021-01-11', '2021-01-08', '2021-01-07', '2021-01-06', '2021-01-05', '2021-01-04', '2021-01-01'\n",
    "])\n",
    "\n",
    "model.upload_calendar(calendar)"
   ],
   "metadata": {
    "collapsed": false,
    "pycharm": {
     "name": "#%%\n"
    }
   }
  },
  {
   "cell_type": "markdown",
   "source": [
    "## Upload Data To Your Model\n",
    "\n",
    "Once the calendar is posted for a model, we can start uploading data to it. We can supply data multiple ways:\n",
    "\n",
    "1. Upload total data one day at a time\n",
    "2. Upload partial data one day at a time\n",
    "\n",
    "For a complete day of data, we need three things, defined in `RiskModelData`\n",
    "1. Factor Data\n",
    "   - factorId: Can be any string, but needs to map consistently to the same factor across every date\n",
    "   - factorName: Can be any string, will be the display name of the factor, should be consistent across every date\n",
    "   - factorCategoryId: Id of the category that the factor belongs to\n",
    "   - factorCategory: Name of the category that the factor belongs to, will be the display name of the category (Style, Industry, Market, Currency, ect.)\n",
    "   - factorReturn: Daily return of the factor in percent units\n",
    "2. Asset Data\n",
    "   - universe: Array of assets in the universe\n",
    "   - factorExposure: Array of dictionaries that map factorId to the factor exposure of that asset, corresponds to ordering of asset universe\n",
    "   - specificRisk: Array of annualized specific risk in percent units, corresponds to ordering of asset universe (null values not allowed)\n",
    "   - totalRisk: (optional) Array of total risk in percent units, corresponds to ordering of asset universe (null values not allowed)\n",
    "   - historicalBeta: (optional) Array of historical beta, corresponds to ordering of asset universe (null values not allowed)\n",
    "\n",
    "### Upload Full Data"
   ],
   "metadata": {
    "collapsed": false
   }
  },
  {
   "cell_type": "code",
   "execution_count": null,
   "outputs": [],
   "source": [
    "data = {\n",
    "    'date': '2021-01-13',  # Note: You can only upload to dates in your risk model's calendar\n",
    "    'assetData': {\n",
    "        'universe': ['B02V2Q0', '6560713', 'B3Q15X5', '0709954'],\n",
    "        'specificRisk': [12.09, 45.12, 3.09, 1.0],\n",
    "        'factorExposure': [\n",
    "            {'1': 0.23, '2': 0.023},\n",
    "            {'1': 0.023, '2': 2.09, '3': 0.3},\n",
    "            {'1': 0.063, '2': 2.069, '3': 0.73},\n",
    "            {'2': 0.067, '3': 0.93}\n",
    "        ],\n",
    "        'totalRisk': [12.7, 45.5, 12.7, 10.3]\n",
    "    },\n",
    "    'factorData': [\n",
    "        {\n",
    "            'factorId': '1',\n",
    "            'factorName': 'USD',\n",
    "            'factorCategory': 'Currency',\n",
    "            'factorCategoryId': 'CUR',\n",
    "            'factorReturn': 0.5\n",
    "        },\n",
    "        {\n",
    "            'factorId': '2',\n",
    "            'factorName': 'JPY 1Y Basis Swap',\n",
    "            'factorCategory': 'GDP',\n",
    "            'factorCategoryId': 'GDP',\n",
    "            'factorReturn': 0.3\n",
    "        },\n",
    "        {\n",
    "            'factorId': '3',\n",
    "            'factorName': 'US HY',\n",
    "            'factorCategory': 'Credit Spreads',\n",
    "            'factorCategoryId': 'CDS',\n",
    "            'factorReturn': 0.2\n",
    "        }\n",
    "    ]\n",
    "}\n",
    "\n",
    "model.upload_data(data)"
   ],
   "metadata": {
    "collapsed": false,
    "pycharm": {
     "name": "#%%\n"
    }
   }
  },
  {
   "cell_type": "markdown",
   "source": [
    "## Query Data From Model\n",
    "\n",
    "Once the data is uploaded, you can query it back using the same class"
   ],
   "metadata": {
    "collapsed": false
   }
  },
  {
   "cell_type": "code",
   "execution_count": null,
   "outputs": [],
   "source": [
    "from gs_quant.models.risk_model import Measure, DataAssetsRequest\n",
    "import datetime as dt\n",
    "\n",
    "model = MacroRiskModel.get(model_id)\n",
    "# get multiple measures across a date range for a universe specified\n",
    "start_date = dt.date(2021, 1, 13)\n",
    "end_date = dt.date(2021, 1, 13)\n",
    "\n",
    "universe_for_request = DataAssetsRequest(universe_identifier.value, []) # an empty assets request returns the full universe\n",
    "data_measures = [Measure.Universe_Factor_Exposure,\n",
    "                 Measure.Asset_Universe,\n",
    "                 Measure.Specific_Risk,\n",
    "                 Measure.Total_Risk,\n",
    "                 Measure.Factor_Id,\n",
    "                 Measure.Factor_Name,\n",
    "                 Measure.Factor_Category,\n",
    "                 Measure.Factor_Category_Id,\n",
    "                 Measure.Factor_Return\n",
    "                ]\n",
    "\n",
    "macro_factor_data = model.get_data(data_measures, start_date, end_date, universe_for_request, limit_factors=True)\n",
    "\n"
   ],
   "metadata": {
    "collapsed": false,
    "pycharm": {
     "name": "#%%\n"
    }
   }
  }
 ],
 "metadata": {
  "kernelspec": {
   "display_name": "Python 3",
   "language": "python",
   "name": "python3"
  },
  "language_info": {
   "codemirror_mode": {
    "name": "ipython",
    "version": 2
   },
   "file_extension": ".py",
   "mimetype": "text/x-python",
   "name": "python",
   "nbconvert_exporter": "python",
   "pygments_lexer": "ipython2",
   "version": "2.7.6"
  }
 },
 "nbformat": 4,
 "nbformat_minor": 0
}