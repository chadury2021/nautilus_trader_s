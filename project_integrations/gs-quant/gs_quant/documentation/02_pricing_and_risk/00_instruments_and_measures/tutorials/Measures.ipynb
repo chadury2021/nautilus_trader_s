{
 "cells": [
  {
   "cell_type": "markdown",
   "metadata": {},
   "source": [
    "Examples require an initialized GsSession and relevant entitlements. `run_analytics` scope is required for the functionality covered in this tutorial. External clients need to substitute thier own client id and client secret below. Please refer to <a href=\"https://developer.gs.com/docs/gsquant/guides/Authentication/2-gs-session/\"> Sessions</a> for details."
   ]
  },
  {
   "cell_type": "code",
   "execution_count": null,
   "metadata": {
    "pycharm": {
     "is_executing": true
    }
   },
   "outputs": [],
   "source": [
    "from gs_quant.session import GsSession\n",
    "GsSession.use(client_id=None, client_secret=None, scopes=('run_analytics',))"
   ]
  },
  {
   "cell_type": "markdown",
   "metadata": {},
   "source": [
    "## Measures\n",
    "\n",
    "A measure is a metric that can be calculated on an instrument, like a dollar price. Below is a table of supported measures and their definitions.\n",
    "\n",
    "| Measure                                                                                                              | Definition                                                                                                                                                                                            |\n",
    "| -------------------------------------------------------------------------------------------------------------------- | ----------------------------------------------------------------------------------------------------------------------------------------------------------------------------------------------------- |\n",
    "| [Annuity*](https://developer.gs.com/docs/gsquant/api/risk.html#gs_quant.risk.Annuity)                                  | Annuity of instrument in local currency (unless currency specified in parameters)                                                                                                                   |\n",
    "| [Dollar Price](https://developer.gs.com/docs/gsquant/api/risk.html#gs_quant.risk.DollarPrice)                        | Price of the instrument in US Dollars                                                                                                                                                                 |\n",
    "| [Price*](https://developer.gs.com/docs/gsquant/api/risk.html#gs_quant.risk.Price)                                     | Price of the instrument  (In local currency unless currency specified in parameters)                                                                                                                                                              |\n",
    "| [ForwardPrice](https://developer.gs.com/docs/gsquant/api/risk.html#gs_quant.risk.ForwardPrice)                       | Price of the instrument at expiry in the local currency                                                                                                                                               |\n",
    "| [CDDelta](https://developer.gs.com/docs/gsquant/api/risk.html#gs_quant.risk.CDDelta)                                 | Change in option Dollar Price relative to the change in underlying index Dollar Price, due to a 1bp shift in the underlying index spread                                                              |\n",
    "| [CDGamma](https://developer.gs.com/docs/gsquant/api/risk.html#gs_quant.risk.CDGamma)                                 | Change in option Delta relative to the change in underlying index Delta, due to a 1bp shift in the underlying index spread                                                                            |\n",
    "| [CDTheta](https://developer.gs.com/docs/gsquant/api/risk.html#gs_quant.risk.CDTheta)                                 | Change in option Dollar Price over one day                                                                                                                                                            |\n",
    "| [CDVega](https://developer.gs.com/docs/gsquant/api/risk.html#gs_quant.risk.CDVega)                                   | Change in option Dollar Price due to a 1bp shift in the implied volatility of the underlying index                                                                                                    |\n",
    "| [EqDelta](https://developer.gs.com/docs/gsquant/api/risk.html#gs_quant.risk.EqDelta)                                 | Change in Dollar Price (USD present value) due to individual 1% move in the spot price of underlying equity security                                                                                |\n",
    "| [EqGamma](https://developer.gs.com/docs/gsquant/api/risk.html#gs_quant.risk.EqGamma)                                 | Change in EqDelta for a 1% move in the price of the underlying equity security                                                                                                                      |\n",
    "| [EqVega](https://developer.gs.com/docs/gsquant/api/risk.html#gs_quant.risk.EqVega)                                   | Change in Dollar Price (USD present value) due to individual 1bp moves in the implied volatility of the underlying equity security                                                                    |\n",
    "| [FXDelta*](https://developer.gs.com/docs/gsquant/api/risk.html#gs_quant.risk.FXDelta)                                 | Dollar Price sensitivity of the instrument to a move in the underlying spot such that dSpot \\* FXDelta = PnL                                                                                          |\n",
    "| [FXGamma*](https://developer.gs.com/docs/gsquant/api/risk.html#gs_quant.risk.FXGamma)                                 | FXDelta sensitivity of the instrument to a move in the underlying spot such that dSpot \\* FXGamma = dDelta                                                                                            |\n",
    "| [FXAnnualImpliedVol](https://developer.gs.com/docs/gsquant/api/risk.html#gs_quant.risk.FXAnnualImpliedVol)                                   | FX daily implied volatility (in percent)                                                               |\n",
    "| [FXAnnualATMImpliedVol](https://developer.gs.com/docs/gsquant/api/risk.html#gs_quant.risk.FXAnnualATMImpliedVol)                                   | FX daily implied volatility (in basis points)                                                               |\n",
    "| [FXSpot](https://developer.gs.com/docs/gsquant/api/risk.html#gs_quant.risk.FXSpot)                                   | FX spot reference                                                                                                                                                                                     |\n",
    "| [FXVega*](https://developer.gs.com/docs/gsquant/api/risk.html#gs_quant.risk.FXVega)                                   | Change in Dollar Price due to a 1 vol move in the implied volatility of ATM instruments used to build the volatility surface                                                                |\n",
    "| [IRBasis*](https://developer.gs.com/docs/gsquant/api/risk.html#gs_quant.risk.IRBasis)                                 | Change in Dollar Price (USD present value) due to individual 1bp moves in the interest rate instruments used to build the basis curve(s)                                                    |\n",
    "| [IRDelta*](https://developer.gs.com/docs/gsquant/api/risk.html#gs_quant.risk.IRDelta)                                 | Change in Dollar Price (USD present value) due to individual 1bp moves in the interest rate instruments used to build the underlying discount curve                                         |\n",
    "| [IRGamma*](https://developer.gs.com/docs/gsquant/api/risk.html#gs_quant.risk.IRGamma)                                 | Change in aggregated IRDelta for a aggregated 1bp shift in the interest rate instruments used to build the underlying discount curve                                                               |\n",
    "| [IRVega*](https://developer.gs.com/docs/gsquant/api/risk.html#gs_quant.risk.IRVega)                                   | Change in Dollar Price (USD present value) due to individual 1bp moves in the implied volatility (IRAnnualImpliedVol) of instruments used to build the volatility surface                   |\n",
    "| [IRAnnualImpliedVol](https://developer.gs.com/docs/gsquant/api/risk.html#gs_quant.risk.IRAnnualImpliedVol)           | Interest rate annual implied volatility (in percent)                                                                                                                                                  |\n",
    "| [IRAnnualATMImpliedVol](https://developer.gs.com/docs/gsquant/api/risk.html#gs_quant.risk.IRAnnualATMImpliedVol)     | Interest rate annual implied at-the-money volatility (in percent)                                                                                                                                     |\n",
    "| [IRDailyImpliedVol](https://developer.gs.com/docs/gsquant/api/risk.html#gs_quant.risk.IRDailyImpliedVol)             | Interest rate daily implied volatility (in basis points)                                                                                                                                              |\n",
    "| [IRSpotRate](https://developer.gs.com/docs/gsquant/api/risk.html#gs_quant.risk.IRSpotRate)                           | Interest rate at-the-money spot rate (in percent)                                                                                                                                                     |\n",
    "| [IRFwdRate](https://developer.gs.com/docs/gsquant/api/risk.html#gs_quant.risk.IRFwdRate)                             | Interest rate par rate (in percent)                                                                                                                                                                   |\n",
    "| [IRXccyDelta*](https://developer.gs.com/docs/gsquant/api/risk.html#gs_quant.risk.IRXccyDelta)                             | Change in Price due to 1bp move in cross currency rates.                                                                                                                                                                |\n",
    "| [InflationDelta*](https://developer.gs.com/docs/gsquant/api/risk.html#gs_quant.risk.InflationDelta)                             | Change in Price due to 1bp move in inflation curve.                                                                                                                                                                  |\n",
    "\n",
    "Note - * indicates parameterised risk measures. See Parameterised Risk Measure section below.\n"
   ]
  },
  {
   "cell_type": "markdown",
   "metadata": {},
   "source": [
    "\n",
    "## Calculating Price Measures\n",
    "\n",
    "Let's price an instrument. For information on how to define an instrument, please refer to the [Instruments](https://developer.gs.com/docs/gsquant/guides/Pricing-and-Risk/instruments/) guide.\n",
    "\n",
    "Note, below we resolve the swaption parameters that will be used to price the swaption, thereby mutating the swaption object. If [`resolve()`](https://developer.gs.com/docs/gsquant/api/classes/gs_quant.base.Priceable.html#gs_quant.base.Priceable.resolve), is\n",
    "not called prior to calling [`price()`](https://developer.gs.com/docs/gsquant/api/classes/gs_quant.base.Priceable.html#gs_quant.base.Priceable.price), the object will be copied and resolved on the fly without mutating the original swaption object.\n",
    "The preferred behavior may depend on the [`PricingContext`](https://developer.gs.com/docs/gsquant/api/classes/gs_quant.markets.PricingContext.html) - more on this in the [Pricing Context](https://developer.gs.com/docs/gsquant/guides/Pricing-and-Risk/pricing-context/) guide.\n",
    "\n",
    "[`price()`](https://developer.gs.com/docs/gsquant/api/classes/gs_quant.base.Priceable.html#gs_quant.base.Priceable.price) method will return price in the local currency.\n"
   ]
  },
  {
   "cell_type": "markdown",
   "metadata": {
    "pycharm": {
     "name": "#%% md\n"
    }
   },
   "source": [
    "### IR Swaps"
   ]
  },
  {
   "cell_type": "code",
   "execution_count": null,
   "metadata": {
    "pycharm": {
     "name": "#%%\n"
    }
   },
   "outputs": [],
   "source": [
    "from gs_quant.instrument import IRSwap\n",
    "from gs_quant.common import PayReceive, Currency\n",
    "# Creating Swaps - spot starting, forward starting\n",
    "swap = IRSwap(PayReceive.Receive, '10y', 'GBP', fixed_rate='atm+50', notional_amount=1e8)  # running\n",
    "swap_fwd_start = IRSwap(PayReceive.Pay, '5y', 'EUR', fixed_rate='atm+20', effective_date='3y')  # fwd starting"
   ]
  },
  {
   "cell_type": "code",
   "execution_count": null,
   "metadata": {},
   "outputs": [],
   "source": [
    "# View Instrument w/ specified relative parameters\n",
    "swap_fwd_start.as_dict()"
   ]
  },
  {
   "cell_type": "code",
   "execution_count": null,
   "metadata": {
    "pycharm": {
     "name": "#%%\n"
    }
   },
   "outputs": [],
   "source": [
    "# Resolve Instrument, View fixed parameters\n",
    "swap_fwd_start.resolve()\n",
    "swap_fwd_start.as_dict()"
   ]
  },
  {
   "cell_type": "markdown",
   "metadata": {
    "pycharm": {
     "name": "#%% md\n"
    }
   },
   "source": [
    "### IR Swaptions"
   ]
  },
  {
   "cell_type": "code",
   "execution_count": null,
   "metadata": {
    "pycharm": {
     "name": "#%%\n"
    }
   },
   "outputs": [],
   "source": [
    "from gs_quant.instrument import IRSwaption\n",
    "from gs_quant.common import PayReceive, Currency\n",
    "\n",
    "swaption = IRSwaption(PayReceive.Receive, '5y', Currency.USD, expiration_date='13m', strike='atm+40', notional_amount=1e8)\n",
    "swaption.resolve()\n",
    "swaption.price() # local is USD"
   ]
  },
  {
   "cell_type": "markdown",
   "metadata": {
    "pycharm": {
     "name": "#%% md\n"
    }
   },
   "source": [
    "All instruments can also priced in dollars."
   ]
  },
  {
   "cell_type": "code",
   "execution_count": null,
   "metadata": {
    "pycharm": {
     "name": "#%%\n"
    }
   },
   "outputs": [],
   "source": [
    "swaption.dollar_price() # USD price"
   ]
  },
  {
   "cell_type": "markdown",
   "metadata": {},
   "source": [
    "## Calculating Risk Measures\n",
    "\n",
    "We can also calculate risk measures for the defined instrument. Please refer to [the Measures Guide](https://developer.gs.com/docs/gsquant/guides/Pricing-and-Risk/measures/) for the supported risk measures.\n",
    "Calling [`calc(risk_measure)`](https://developer.gs.com/docs/gsquant/api/classes/gs_quant.base.Priceable.html#gs_quant.base.Priceable.calc) calculates the value of the risk measure and can return a float, a dataframe or a future thereof, depending on how [`PricingContext`](https://developer.gs.com/docs/gsquant/api/classes/gs_quant.markets.PricingContext.html) is being used - more on this in the [Pricing Context guide](https://developer.gs.com/docs/gsquant/guides/Pricing-and-Risk/pricing-context/).\n",
    "\n",
    "Calculate a scalar value like implied volatility:"
   ]
  },
  {
   "cell_type": "code",
   "execution_count": null,
   "metadata": {
    "pycharm": {
     "name": "#%%\n"
    }
   },
   "outputs": [],
   "source": [
    "import gs_quant.risk as risk\n",
    "\n",
    "swaption.calc(risk.IRAnnualImpliedVol) * 10000"
   ]
  },
  {
   "cell_type": "markdown",
   "metadata": {},
   "source": [
    "Calculate a structured value like vega:"
   ]
  },
  {
   "cell_type": "code",
   "execution_count": null,
   "metadata": {
    "pycharm": {
     "name": "#%%\n"
    }
   },
   "outputs": [],
   "source": [
    "swaption.calc(risk.IRVega)"
   ]
  },
  {
   "cell_type": "markdown",
   "metadata": {},
   "source": [
    "Calculate IR Delta (Aggregated Scalar and Ladder) for Swaps"
   ]
  },
  {
   "cell_type": "code",
   "execution_count": null,
   "metadata": {
    "pycharm": {
     "name": "#%%\n"
    }
   },
   "outputs": [],
   "source": [
    "from gs_quant.common import AggregationLevel\n",
    "\n",
    "ir_risk = swap.calc((risk.IRDelta(aggregation_level=AggregationLevel.Type), risk.IRDelta(aggregation_level=AggregationLevel.Type, currency='local'), risk.IRDelta))\n",
    "\n",
    "# Print Risks\n",
    "print(ir_risk[risk.IRDelta(aggregation_level=AggregationLevel.Type)])\n",
    "print(ir_risk[risk.IRDelta(aggregation_level=AggregationLevel.Type, currency='local')])\n",
    "print(ir_risk[risk.IRDelta])"
   ]
  },
  {
   "cell_type": "markdown",
   "metadata": {},
   "source": [
    "Calculate a conditional risk measure. Show IRDelta Ladder only where exposure >1e-2"
   ]
  },
  {
   "cell_type": "code",
   "execution_count": null,
   "metadata": {
    "pycharm": {
     "name": "#%%\n"
    }
   },
   "outputs": [],
   "source": [
    "ird_ladder=ir_risk[risk.IRDelta]\n",
    "print(ird_ladder[abs(ird_ladder.value)>1e-2])"
   ]
  },
  {
   "cell_type": "markdown",
   "metadata": {},
   "source": [
    "See [measures](#Measures) table for information on units."
   ]
  },
  {
   "cell_type": "markdown",
   "metadata": {},
   "source": [
    "### Parameterised Risk Measures\n",
    "\n",
    "Some risk measures now support extra parameters\n",
    "\n",
    "You can now specify which currency you want the price of an instrument to be expressed in"
   ]
  },
  {
   "cell_type": "code",
   "execution_count": null,
   "metadata": {},
   "outputs": [],
   "source": [
    "eur_swap = IRSwap(PayReceive.Pay, '5y', 'EUR', fixed_rate='atm+20') \n",
    "price = eur_swap.price(currency='PLN')\n",
    "print(f'{price} {list(price.unit.keys())[0]}')"
   ]
  },
  {
   "cell_type": "markdown",
   "metadata": {},
   "source": [
    "For some finite difference risk measures (noted * in the table above), you can now pass in the specifics of the calculation methodology.\n",
    "\n",
    "\n",
    "**Parameters supported in finite difference risk measures**\n",
    "\n",
    "|Parameter name\t          |Type\t                                             |Description|\n",
    "|-------------------------|--------------------------------------------------|------------------------------------------------------------\n",
    "|currency\t              |string\t                                         |Currency of risk result|\n",
    "|aggregation_level        |gs_quant.target.common.AggregationLevel\t         |Level of aggregate shift|\n",
    "|local_curve\t          |bool                                  \t         |Change in Price (present value in the denominated currency)|\n",
    "|finite_difference_method |gs_quant.target.common.FiniteDifferenceParameter\t |Direction and dimension of finite difference|\n",
    "|mkt_marking_options      |gs_quant.target.common.MktMarkingOptions          |Market marking mode|\n",
    "|bump_size\t              |float\t                                         |Bump size|\n",
    "|scale_factor\t          |float\t                                         |Scale factor|"
   ]
  },
  {
   "cell_type": "code",
   "execution_count": null,
   "metadata": {},
   "outputs": [],
   "source": [
    "print(swap.calc(risk.IRDelta))"
   ]
  },
  {
   "cell_type": "code",
   "execution_count": null,
   "metadata": {},
   "outputs": [],
   "source": [
    "# Calculate delta using an aggregate 1bp shift on the asset level and using change in Price only in the denominated currency\n",
    "print(swap.calc(risk.IRDelta(aggregation_level=AggregationLevel.Type, currency='local')))"
   ]
  },
  {
   "cell_type": "markdown",
   "metadata": {},
   "source": [
    "#### Disclaimer\n",
    "This website may contain links to websites and the content of third parties (\"Third Party Content\"). We do not monitor, review or update, and do not have any control over, any Third Party Content or third party websites. We make no representation, warranty or guarantee as to the accuracy, completeness, timeliness or reliability of any Third Party Content and are not responsible for any loss or damage of any sort resulting from the use of, or for any failure of, products or services provided at or from a third party resource. If you use these links and the Third Party Content, you acknowledge that you are doing so entirely at your own risk."
   ]
  }
 ],
 "metadata": {
  "kernelspec": {
   "display_name": "Python 3",
   "language": "python",
   "name": "python3"
  },
  "language_info": {
   "codemirror_mode": {
    "name": "ipython",
    "version": 3
   },
   "file_extension": ".py",
   "mimetype": "text/x-python",
   "name": "python",
   "nbconvert_exporter": "python",
   "pygments_lexer": "ipython3",
   "version": "3.7.4"
  }
 },
 "nbformat": 4,
 "nbformat_minor": 4
}
