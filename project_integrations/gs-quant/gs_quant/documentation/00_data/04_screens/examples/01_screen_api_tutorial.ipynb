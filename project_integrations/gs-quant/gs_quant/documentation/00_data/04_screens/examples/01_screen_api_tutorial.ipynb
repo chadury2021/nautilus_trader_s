{
 "cells": [
  {
   "cell_type": "markdown",
   "id": "fed9c09f",
   "metadata": {},
   "source": [
    "# GS Quant Screens Tutorial"
   ]
  },
  {
   "cell_type": "markdown",
   "id": "bb98323a",
   "metadata": {},
   "source": [
    "Marquee data screens persistent views of asset data that can be filtered, modified, created, and deleted. New features in the `gs_quant` library now allow users to view the screens provisioned to them, make new screens based on existing screens, filter screens, delete screens, and modify existing screens using only library functions. Below, we demonstrate how to use each library function and provide examples of common use cases. "
   ]
  },
  {
   "cell_type": "markdown",
   "id": "bdafbb35",
   "metadata": {},
   "source": [
    "### Imports\n",
    "\n",
    "First, we import the basic functions we need to begin manipulating screens in `gs_quant`. Additional imports are also used for easier visualization of screen data. To use any of the screen functions in `GsDataScreenApi`, users must have an active `GsSession`."
   ]
  },
  {
   "cell_type": "code",
   "execution_count": null,
   "id": "47085e25",
   "metadata": {},
   "outputs": [],
   "source": [
    "# Required imports \n",
    "from gs_quant.session import GsSession, Environment # Authenticate user\n",
    "from gs_quant.api.gs.data_screen import GsDataScreenApi # Screen functions\n",
    "from gs_quant.target.data_screen import AnalyticsScreen, FilterRequest, OrderByBody, DataRow # Screen data classes\n",
    "\n",
    "# Visualization imports \n",
    "import pandas as pd \n",
    "import pprint\n",
    "import copy\n",
    "\n",
    "GsSession.use(Environment.PROD) #Initialize GsSession"
   ]
  },
  {
   "cell_type": "markdown",
   "id": "e7113ed9",
   "metadata": {},
   "source": [
    "## Overview"
   ]
  },
  {
   "cell_type": "markdown",
   "id": "401abf11",
   "metadata": {},
   "source": [
    "Below is a brief overview of a typical use case: getting, modifying, filtering, saving, and deleting a screen. For more detail on these actions, continue to the sections below."
   ]
  },
  {
   "cell_type": "code",
   "execution_count": null,
   "id": "44177740",
   "metadata": {},
   "outputs": [],
   "source": [
    "existing_screen = GsDataScreenApi.get_screens()[0]\n",
    "\n",
    "column_info = GsDataScreenApi.get_column_info(existing_screen.id)\n",
    "\n",
    "new_screen_specs = copy.deepcopy(existing_screen)\n",
    "\n",
    "new_screen_specs.name = 'New Screen'\n",
    "new_screen_specs.filter_parameters.filters = ({'columnName': 'Name', 'type': 'Substring', 'q': 'Z'},)\n",
    "new_screen_specs.filter_parameters.limit = 3\n",
    "new_screen_specs.filter_parameters.include_columns = ('Name', 'Skew')\n",
    "\n",
    "new_screen = GsDataScreenApi.create_screen(new_screen_specs)\n",
    "\n",
    "data = GsDataScreenApi.filter_screen(new_screen.id, new_screen.filter_parameters)\n",
    "\n",
    "display(pd.DataFrame(data))\n",
    "\n",
    "new_screen_specs = copy.deepcopy(existing_screen)\n",
    "\n",
    "new_screen_specs.name = 'New Screen'\n",
    "new_screen_specs.filter_parameters.filters = ({'columnName': 'Name', 'type': 'Substring', 'q': 'Z'},)\n",
    "new_screen_specs.filter_parameters.limit = 3\n",
    "new_screen_specs.filter_parameters.include_columns = ('Name', 'Skew')\n",
    "\n",
    "new_screen = GsDataScreenApi.create_screen(new_screen_specs)\n",
    "\n",
    "data = GsDataScreenApi.filter_screen(new_screen.id, new_screen.filter_parameters)\n",
    "\n",
    "display(pd.DataFrame(data))\n",
    "\n",
    "new_screen.filter_parameters.include_columns = new_screen.filter_parameters.include_columns + ('BBG Ticker',)\n",
    "\n",
    "new_screen = GsDataScreenApi.update_screen(new_screen.id, new_screen)\n",
    "\n",
    "data = GsDataScreenApi.filter_screen(new_screen.id, new_screen.filter_parameters)\n",
    "\n",
    "display(pd.DataFrame(data))\n",
    "\n",
    "GsDataScreenApi.delete_screen(new_screen.id)"
   ]
  },
  {
   "cell_type": "markdown",
   "id": "c436463e",
   "metadata": {},
   "source": [
    "## Viewing Screens"
   ]
  },
  {
   "cell_type": "markdown",
   "id": "598e0687",
   "metadata": {},
   "source": [
    "### Class `AnalyticsScreen`"
   ]
  },
  {
   "cell_type": "markdown",
   "id": "c82baae6",
   "metadata": {},
   "source": [
    "Each instance of class `AnalyticsScreen` represents a screen and contains all information about the screen's applied filters, ordering, columns, identifiers, data sources, and other properties. `AnalyticsScreen` objects are commonly returned when gathering data on existing screens or created by the user to generate or update screens. Some notable fields of this type include: \n",
    "\n",
    "\n",
    "- **`name`** *(str, Required)*: The name of this screen. \n",
    "\n",
    "\n",
    "- **`filter_parameters`** *(FilterRequest, Required)*: The filters applied to this screen's data currently.\n",
    "\n",
    "\n",
    "- **`base_screener`** *(str, Required)*: An identifier of the data source that this screen uses. All data available in a screen comes directly from the corresponding base screener. The screen also applies all specified filters to this data before displaying it to the user.\n",
    "\n",
    "\n",
    "- **`id`** *(str, Optional)*: The unique identifier of this screen. This ID can be used to retrieve screen information from permanent storage. \n",
    "\n",
    "\n",
    "- **`hidden_columns`** *(Tuple[str, ...], Optional)*: Available columns that are currently not shown in this screen. Filtering on a screen allows users to display or hide specific columns. The `hidden_columns` field lists which columns have been excluded from view by the user. "
   ]
  },
  {
   "cell_type": "markdown",
   "id": "bf115fe9",
   "metadata": {},
   "source": [
    "### Function `get_screens()`"
   ]
  },
  {
   "cell_type": "markdown",
   "id": "fc0e1d35",
   "metadata": {},
   "source": [
    "When new screens are created, they are stored persistently. Function `get_screens()` returns a list of all screens available to the user. Each screen or entry in this list is an `AnalyticsScreen` object that can be used to retrieve the screen's data, manipulate the screen, or create a new screen. "
   ]
  },
  {
   "cell_type": "code",
   "execution_count": null,
   "id": "fb2215f0",
   "metadata": {},
   "outputs": [],
   "source": [
    "# Usage Example: get_screens()\n",
    "\n",
    "all_screens = GsDataScreenApi.get_screens()\n",
    "print(all_screens)\n",
    "\n",
    "screen = all_screens[0]\n",
    "\n",
    "print(f'\\nScreen Name: %s, Base Screener: %s, Screen ID: %s' % (screen.name,  screen.base_screener, screen.id))"
   ]
  },
  {
   "cell_type": "markdown",
   "id": "67be928b",
   "metadata": {},
   "source": [
    "### Function `get_screen()`"
   ]
  },
  {
   "cell_type": "markdown",
   "id": "24972be6",
   "metadata": {},
   "source": [
    "Use function `get_screen(screen_id)`to retrieve the `AnalyticsScreen` object for a specific screen using its screen ID. "
   ]
  },
  {
   "cell_type": "code",
   "execution_count": null,
   "id": "d75c9e2a",
   "metadata": {},
   "outputs": [],
   "source": [
    "# Usage Example: get_screen()\n",
    "\n",
    "screen = GsDataScreenApi.get_screen('SCQC82C1C960G1I30P')#REMOVE:Keep permanent screen for this demo? in prod/dev? \n",
    "\n",
    "print(screen)\n",
    "print(f'\\nScreen Name: %s, Base Screener: %s, Screen ID: %s' % (screen.name,  screen.base_screener, screen.id_))"
   ]
  },
  {
   "cell_type": "markdown",
   "id": "fc83e909",
   "metadata": {},
   "source": [
    "## Filtering and Viewing Screen Data "
   ]
  },
  {
   "cell_type": "markdown",
   "id": "bed56e08",
   "metadata": {},
   "source": [
    "### Function `get_column_info()`"
   ]
  },
  {
   "cell_type": "markdown",
   "id": "ea24d1ae",
   "metadata": {},
   "source": [
    "Before filtering a screen's data for specific assets, we may want to view a description of all columns available in this screen and their properties. Use function `get_column_info(screen_id)` to get information about all columns in a screen, including previously hidden columns. Descriptions of certain column types also include other metrics: \n",
    "\n",
    "- For `Enum` type columns, column descriptions include each possible value for the `Enum` as well as the number of times each value appears in the unfiltered data. \n",
    "\n",
    "\n",
    "- For `Number` type columns, column descriptions include the maximum and minimum numeric values present in the unfiltered data.\n",
    "\n",
    "\n",
    "- For `String` type columns, column descriptions are currently empty. If an `Enum` type column has more than 20 values, it is automatically converted to a `String` type column. \n",
    "\n",
    "These column properties can help users create more effective filters. The keys of the dictionary returned from `get_column_info()` correspond to the names of each column, and the corresponding values are the description of each column. "
   ]
  },
  {
   "cell_type": "code",
   "execution_count": null,
   "id": "77faa83d",
   "metadata": {},
   "outputs": [],
   "source": [
    "# Usage Example: get_column_info() #ASK - is any string coluymn w/ <20 values immediately converted to enum? or no?\n",
    "#Do some enum cols not show the values? \n",
    "\n",
    "column_info = GsDataScreenApi.get_column_info('SCQC82C1C960G1I30P')\n",
    "pprint.pprint(column_info)\n",
    "\n",
    "# Example: Number type column description\n",
    "\n",
    "num_colname = 'Skew'\n",
    "print(f'\\033[4m\\nNumeric Column:\\033[0m %s\\n ' % num_colname)\n",
    "pprint.pprint(column_info[num_colname])\n",
    "\n",
    "# Example: Enum type column description\n",
    "\n",
    "enum_colname = 'Entity ID'\n",
    "print(f'\\033[4m\\nEnum Column:\\033[0m %s\\n ' % enum_colname)\n",
    "pprint.pprint(column_info[enum_colname])\n",
    "\n",
    "# Example: String type column description\n",
    "\n",
    "str_colname = 'Name'\n",
    "print(f'\\033[4m\\nString Column:\\033[0m %s\\n ' % str_colname)\n",
    "pprint.pprint(column_info[str_colname])\n"
   ]
  },
  {
   "cell_type": "markdown",
   "id": "9a58e4b5",
   "metadata": {},
   "source": [
    "### Creating Filters"
   ]
  },
  {
   "cell_type": "markdown",
   "id": "0bb26cdd",
   "metadata": {},
   "source": [
    "Using information about our column types and values, we can now create filters that we will apply to screens to view their filtered data. Additionally, we can permanently filter screens by assigning filters to the `filter_parameters` field in screen objects.\n",
    "\n",
    "A configuration of filters for a single screen is stored in a `FilterRequest` object. Some notable fields of the `FilterRequest` class include: \n",
    "\n",
    "\n",
    "- **`include_columns`** *(Tuple[str, ...], Optional)*: A tuple of column names. The columns included in this field will be visible in the screen's data. All other columns will be hidden. If nothing is supplied in this field, all columns will be visible.\n",
    "\n",
    "\n",
    "- **`filters`** *(Tuple[dict, ...], Optional)*: A tuple of dictionaries. Each dictionary defines a filter to be applied to the data. Each filter pertains to data in a single specified column. All assets returned from the screen data must meet the requirements of all filters in `filters`. If nothing is supplied in this field, all screen data will be visible. \n",
    "\n",
    "\n",
    "- **`order_by`** *(OrderByBody, Optional)*: An `OrderByBody` object. An instance of `OrderByBody` specifies how the returned data rows of the screen should be ordered after filtering. \n",
    "\n",
    "\n",
    "- **`limit`** *(float, Optional)*: A value specifying the maximum number of results that should be returned from the screen. If the `limit` field has value `n`, the first `n` rows of data will be retrieved based on the ordering in `order_by`.\n",
    "\n"
   ]
  },
  {
   "cell_type": "markdown",
   "id": "02f743c6",
   "metadata": {},
   "source": [
    "Different filters are available based on the different columns and column types in the screen. `Number` type columns support `Range` filters, `Enum` type columns support `Include` filters (which enums to include), and `String` type columns support `Substring` filters. Below is an example of how to generate each type of filter:"
   ]
  },
  {
   "cell_type": "code",
   "execution_count": null,
   "id": "e43eb480",
   "metadata": {},
   "outputs": [],
   "source": [
    "# Number Columns: Range Filtering \n",
    "\n",
    "num_col = \"Skew\"\n",
    "\n",
    "range_filter = {'columnName': num_col, 'type': 'Range', 'greaterThanEqual': 0, 'lessThanEqual': 1}\n",
    "\n",
    "print('\\033[4mRange Filter Example:\\033[0m\\n')\n",
    "pprint.pprint(range_filter)\n",
    "\n",
    "\n",
    "# Enum Columns: Include Filtering \n",
    "\n",
    "enum_col = \"Entity ID\"\n",
    "\n",
    "include_filter = {'columnName': enum_col, 'type': 'Include', 'values': ['VALUE1', 'VALUE2']} #find a screen w/ actual enums\n",
    "\n",
    "print('\\n\\033[4mInclude Filter Example:\\033[0m\\n')\n",
    "pprint.pprint(include_filter)\n",
    "\n",
    "# String Columns: Substring Filtering\n",
    "\n",
    "str_col = \"Name\"\n",
    "\n",
    "substring_filter = {'columnName': str_col, 'type': 'Substring', 'q': 'D'}\n",
    "\n",
    "print('\\n\\033[4mSubstring Filter Example:\\033[0m\\n')\n",
    "pprint.pprint(substring_filter)\n"
   ]
  },
  {
   "cell_type": "markdown",
   "id": "da8d51ee",
   "metadata": {},
   "source": [
    "When creating a `FilterRequest` object, include an `OrderByBody` object to enforce an ordering of the retrieved data rows. Notable fields in these instances include: \n",
    "\n",
    "\n",
    "- **`column_name`** *(str, Optional)*: The name of the column to order by.\n",
    "\n",
    "\n",
    "- **`type`** *(str, Optional)*: The type of ordering to enforce. Must be either `Ascending` or `Descending`."
   ]
  },
  {
   "cell_type": "code",
   "execution_count": null,
   "id": "e24a4956",
   "metadata": {},
   "outputs": [],
   "source": [
    "# Example: Ascending Order by Skew \n",
    "\n",
    "order_by = OrderByBody(column_name='Skew', type='Ascending')\n",
    "print('Column Name: %s, Row Ordering: %s' % (order_by.column_name, order_by.type ))"
   ]
  },
  {
   "cell_type": "markdown",
   "id": "d24113d1",
   "metadata": {},
   "source": [
    "### Function `filter_screen()`"
   ]
  },
  {
   "cell_type": "markdown",
   "id": "81116675",
   "metadata": {},
   "source": [
    "Use function `filter_screen(screen_id, filter_request)` to view filtered data from a screen. The `filters` parameter of this function is a filter configuration that temporarily overrides the existing filter configuration associated with the given screen. All existing filters applied to this screen are temporarily removed, and the filters supplied in this function will be applied instead."
   ]
  },
  {
   "cell_type": "code",
   "execution_count": null,
   "id": "92f2184d",
   "metadata": {},
   "outputs": [],
   "source": [
    "# Usage Example: filter_screen()\n",
    "\n",
    "# Create a FilterRequest \n",
    "\n",
    "filters = (substring_filter, range_filter)\n",
    "\n",
    "include_columns = ('Name', 'Skew', 'BBG Ticker', 'Vol Premia')\n",
    "\n",
    "limit = 3\n",
    "\n",
    "filter_request= FilterRequest(filters=filters, include_columns=include_columns, order_by=order_by, limit=limit)\n",
    "\n",
    "# Get Filtered Data \n",
    "\n",
    "filtered_data = GsDataScreenApi.filter_screen('SCQC82C1C960G1I30P', filter_request)\n",
    "\n",
    "pprint.pprint(filtered_data)\n",
    "\n",
    "# Visualize Filtered Data as Dataframe\n",
    "\n",
    "df = pd.DataFrame(filtered_data)\n",
    "\n",
    "display(df)"
   ]
  },
  {
   "cell_type": "markdown",
   "id": "88ab5796",
   "metadata": {},
   "source": [
    "To view filtered data using the screen's existing configuration, pass the value stored in the `filter_parameters` field of the screen's object into `filter_screen()`."
   ]
  },
  {
   "cell_type": "code",
   "execution_count": null,
   "id": "3d54ff9e",
   "metadata": {},
   "outputs": [],
   "source": [
    "# Example: View Current Configuration Data\n",
    "\n",
    "screen = GsDataScreenApi.get_screen('SCQC82C1C960G1I30P')\n",
    "\n",
    "filtered_data = GsDataScreenApi.filter_screen(screen.id, screen.filter_parameters)\n",
    "\n",
    "pprint.pprint(filtered_data[0:3])"
   ]
  },
  {
   "cell_type": "markdown",
   "id": "f368479e",
   "metadata": {},
   "source": [
    "## Creating and Deleting Screens"
   ]
  },
  {
   "cell_type": "markdown",
   "id": "eb42e422",
   "metadata": {},
   "source": [
    "### Function `delete_screen()`"
   ]
  },
  {
   "cell_type": "markdown",
   "id": "7bad7dc4",
   "metadata": {},
   "source": [
    "Use function `delete_screen()` to permanently delete an existing screen using its ID. Once a screen is deleted, its information and data cannot be retrieved again. However, it is possible that users may still have access to stale data or `AnalyticsScreen` objects remaining from the old screen."
   ]
  },
  {
   "cell_type": "markdown",
   "id": "68f2fa05",
   "metadata": {},
   "source": [
    "### Function `create_screen()`"
   ]
  },
  {
   "cell_type": "markdown",
   "id": "9dddc7fb",
   "metadata": {},
   "source": [
    "Use `create_screen()` to create new permanent screens using `AnalyticsScreen` objects. To specify a new screen's data source, applied filters, and other attributes, edit the information in the `AnalyticsScreen` instance provided to create the screen. All screens with the same `base_screener` field value will reference the same data source."
   ]
  },
  {
   "cell_type": "markdown",
   "id": "b3f2efc0",
   "metadata": {},
   "source": [
    "### Examples: Screen Creation and Deletion"
   ]
  },
  {
   "cell_type": "code",
   "execution_count": null,
   "id": "7c4866d7",
   "metadata": {},
   "outputs": [],
   "source": [
    "# Usage Example: create_screen() and delete_screen()\n",
    "\n",
    "# Create new screen\n",
    "\n",
    "filter_request = FilterRequest(filters=({'columnName': 'Name', 'type': 'Substring', 'q': 'A'},), limit=3)\n",
    "\n",
    "screen_specs = AnalyticsScreen(name='New Screen', filter_parameters=filter_request, base_screener='BS88M7XNRA1D1FL3OM')\n",
    "\n",
    "print(f'Name: %s, Screen ID: %s' % (screen_specs.name, screen_specs.id))\n",
    "\n",
    "new_screen = GsDataScreenApi.create_screen(screen_specs)\n",
    "\n",
    "print(f'Name: %s, Screen ID: %s' % (new_screen.name, new_screen.id))\n",
    "\n",
    "# View screen data \n",
    "\n",
    "data = GsDataScreenApi.filter_screen(new_screen.id, new_screen.filter_parameters)\n",
    "\n",
    "display(pd.DataFrame(data))\n",
    "\n",
    "# Delete screen\n",
    "\n",
    "GsDataScreenApi.delete_screen(new_screen.id)\n"
   ]
  },
  {
   "cell_type": "markdown",
   "id": "64c97ba6",
   "metadata": {},
   "source": [
    "Additionally, create copies of existing screens by passing their screen objects directly into `create_screen()`. These existing screen objects can also be modified and passed to `create_screen()` to generate new screens that only differ marginally from an existing screen. "
   ]
  },
  {
   "cell_type": "code",
   "execution_count": null,
   "id": "1fe6783c",
   "metadata": {},
   "outputs": [],
   "source": [
    "# Example: Create and Delete a Copy of an Existing Screen\n",
    "\n",
    "# Retrieve an Existing Screen \n",
    "\n",
    "existing_screen = GsDataScreenApi.get_screens()[0]\n",
    "\n",
    "print(f'\\033[4mExisting Screen ID and Filters:\\033[0m %s\\n' % existing_screen.id)\n",
    "pprint.pprint(existing_screen.filter_parameters.filters)\n",
    "\n",
    "# Make a Copy\n",
    "\n",
    "new_screen = GsDataScreenApi.create_screen(existing_screen)\n",
    "\n",
    "print(f'\\n\\033[4mCopy Screen ID and Filters:\\033[0m %s\\n' % new_screen.id)\n",
    "pprint.pprint(new_screen.filter_parameters.filters)\n",
    "\n",
    "\n",
    "# Delete Copy \n",
    "\n",
    "GsDataScreenApi.delete_screen(new_screen.id)\n",
    "\n"
   ]
  },
  {
   "cell_type": "markdown",
   "id": "6549b18d",
   "metadata": {},
   "source": [
    "## Updating Existing Screens"
   ]
  },
  {
   "cell_type": "markdown",
   "id": "8e2ac731",
   "metadata": {},
   "source": [
    "### Function `update_screen()`"
   ]
  },
  {
   "cell_type": "markdown",
   "id": "9e931fd6",
   "metadata": {},
   "source": [
    "Use function `update_screen()` to permanently update an existing screen using the ID of the screen and an `AnalyticsScreen` object specifying how the screen should be changed. Note that all previous specifications for the existing screen will be replaced by the information in the `AnalyticsScreen` instance passed into `update_screen()`, including screen names, filters, and data sources. Only the screen ID will remain the same after updating. \n",
    "\n",
    "Additionally, `update_screen()` requires that the screen ID passed in must match the ID field of the screen object passed in. An error is thrown if these two values do not match."
   ]
  },
  {
   "cell_type": "code",
   "execution_count": null,
   "id": "9f5ff8a9",
   "metadata": {},
   "outputs": [],
   "source": [
    "#Usage Example: update_screen()\n",
    "\n",
    "# Create a New Screen \n",
    "\n",
    "filter_request = FilterRequest()\n",
    "\n",
    "screen_spec = AnalyticsScreen(name='Screen to Update', base_screener='BS88M7XNRA1D1FL3OM', filter_parameters=filter_request)\n",
    "\n",
    "screen = GsDataScreenApi.create_screen(screen_spec)\n",
    "\n",
    "print(f'Name: %s, ID: %s\\n' % (screen.name, screen.id))\n",
    "pprint.pprint(screen.filter_parameters.filters)\n",
    "\n",
    "# Update the New Screen\n",
    "\n",
    "updated_filter_request = FilterRequest(filters=({'columnName': 'Name', 'type': 'Substring', 'q': 'A'},))\n",
    "\n",
    "screen.filter_parameters = updated_filter_request \n",
    "\n",
    "screen.name = 'Updated Screen'\n",
    "\n",
    "screen = GsDataScreenApi.update_screen(screen.id, screen)\n",
    "\n",
    "print(f'\\nName: %s, ID: %s\\n' % (screen.name, screen.id))\n",
    "\n",
    "pprint.pprint(screen.filter_parameters.filters)\n",
    "\n",
    "# Delete the New Screen\n",
    "\n",
    "GsDataScreenApi.delete_screen(screen.id)"
   ]
  }
 ],
 "metadata": {
  "kernelspec": {
   "display_name": "Python 3 (ipykernel)",
   "language": "python",
   "name": "python3"
  },
  "language_info": {
   "codemirror_mode": {
    "name": "ipython",
    "version": 3
   },
   "file_extension": ".py",
   "mimetype": "text/x-python",
   "name": "python",
   "nbconvert_exporter": "python",
   "pygments_lexer": "ipython3",
   "version": "3.7.4"
  }
 },
 "nbformat": 4,
 "nbformat_minor": 5
}
