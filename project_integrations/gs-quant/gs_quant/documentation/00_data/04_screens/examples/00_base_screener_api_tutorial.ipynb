{
 "cells": [
  {
   "cell_type": "markdown",
   "id": "49804acd",
   "metadata": {},
   "source": [
    "# GS Quant Base Screener Tutorial"
   ]
  },
  {
   "cell_type": "markdown",
   "id": "614cf75b",
   "metadata": {},
   "source": [
    "Base screeners are tools used to explore and compare information about specific assets. These screeners act as permanent data tables containing rows of information about different assets and indices. Each base screener is recomputed once a day, and `gs_quant` screens act as persistent filters for screeners. Each base screener has two main components: the screener schema, which determines what data is permitted to be in the screener, and the screener data, which can be published to the screener after the schema is fixed. \n",
    "\n",
    "New features in the `gs_quant` library now allow users with the requisite permissions to create and manipulate screeners using only library functions. Below, we demonstrate how to use each library function and provide examples of common use cases. "
   ]
  },
  {
   "cell_type": "markdown",
   "id": "1f91951a",
   "metadata": {},
   "source": [
    "### Imports\n",
    "\n",
    "First, we import the basic functions we need to begin manipulating base screeners in `gs_quant`. Additional imports are also used for easier visualization of screener data. \n",
    "\n",
    "\n",
    "To use any of the screener functions in `GsBaseScreenerApi`, users must have an active `GsSession`. Users must also be members of the `PlotScreenerAdmins` group in `gs_quant` in order to use functions such as `create_screener()`, `edit_screener()`, `clear_screener()`, `delete_screener()`, and `publish_to_screener()`. "
   ]
  },
  {
   "cell_type": "code",
   "execution_count": null,
   "id": "8d926374",
   "metadata": {},
   "outputs": [],
   "source": [
    "# Required imports \n",
    "from gs_quant.session import GsSession, Environment # Authenticate user\n",
    "from gs_quant.api.gs.base_screener import GsBaseScreenerApi # Base screener functions\n",
    "from gs_quant.target.base_screener import Screener, ScreenerParameters, ScreenerRow, ScreenerColumn # Screener data classes\n",
    "from gs_quant.target.common import FilterRequest, DataRow\n",
    "\n",
    "# Visualization imports \n",
    "import pandas as pd \n",
    "import pprint\n",
    "from gs_quant.api.gs.data_screen import GsDataScreenApi\n",
    "from gs_quant.target.data_screen import AnalyticsScreen\n",
    "from time import sleep\n",
    "\n",
    "GsSession.use(Environment.PROD) #Initialize GsSession"
   ]
  },
  {
   "cell_type": "markdown",
   "id": "d1838f1c",
   "metadata": {},
   "source": [
    "## Overview"
   ]
  },
  {
   "cell_type": "markdown",
   "id": "20958ee6",
   "metadata": {},
   "source": [
    "Below is a brief overview of a typical use case: getting a screener, creating a new screener, editing a schema, publishing data to a screener, viewing screener data, clearing a screener, and deleting a screener. For more detail on these actions, continue to the sections below."
   ]
  },
  {
   "cell_type": "code",
   "execution_count": null,
   "id": "5f3a10dc",
   "metadata": {},
   "outputs": [],
   "source": [
    "\n",
    "existing_schema = GsBaseScreenerApi.get_screener('BSW3GT9DS8A86MTSH3')\n",
    "\n",
    "\n",
    "existing_schema.name = 'Tutorial Overview Screener'\n",
    "\n",
    "new_screener = GsBaseScreenerApi.create_screener(existing_schema)\n",
    "\n",
    "\n",
    "\n",
    "new_col = ScreenerColumn(column_name='1m IV', expression='ASSET.implied_volatility(1m, spot, 100)')\n",
    "\n",
    "new_screener.parameters.columns = new_screener.parameters.columns + (new_col, )\n",
    "\n",
    "\n",
    "\n",
    "data = {\n",
    "  'rows': [\n",
    "    {\n",
    "        'id': 0, \n",
    "        'Name': 'Obalon Therapeutics Inc',\n",
    "        'BBID': 'DSE',\n",
    "        '1m IV': 0.15\n",
    "        \n",
    "    },\n",
    "    {\n",
    "        'id': 1,\n",
    "        'Name': 'Disney Inc',\n",
    "        'BBID': 'DIS',\n",
    "        '1m IV': 0.16\n",
    "    }\n",
    "  ]\n",
    "}\n",
    "\n",
    "GsBaseScreenerApi.publish_to_screener(new_screener.id, data)\n",
    "\n",
    "sleep(1)\n",
    "\n",
    "\n",
    "\n",
    "screen_schema = AnalyticsScreen(name='Overview Screener View', filter_parameters=FilterRequest(), base_screener=new_screener.id)\n",
    "\n",
    "screen = GsDataScreenApi.create_screen(screen_schema)\n",
    "\n",
    "display(pd.DataFrame(GsDataScreenApi.filter_screen(screen.id, screen.filter_parameters)))\n",
    "\n",
    "\n",
    "\n",
    "GsBaseScreenerApi.clear_screener(new_screener.id)\n",
    "\n",
    "sleep(1)\n",
    "\n",
    "display(pd.DataFrame(GsDataScreenApi.filter_screen(screen.id, screen.filter_parameters)))\n",
    "\n",
    "\n",
    "GsDataScreenApi.delete_screen(screen.id)\n",
    "\n",
    "GsBaseScreenerApi.delete_screener(new_screener.id)"
   ]
  },
  {
   "cell_type": "markdown",
   "id": "27fefdea",
   "metadata": {},
   "source": [
    "## Viewing Existing Base Screeners"
   ]
  },
  {
   "cell_type": "markdown",
   "id": "97804a6a",
   "metadata": {},
   "source": [
    "### Class `Screener`"
   ]
  },
  {
   "cell_type": "markdown",
   "id": "9b0c719c",
   "metadata": {},
   "source": [
    "In `gs_quant`, a screener is represented by an object of class `Screener`. More explicitly, a `Screener` object describes the schema of an existing base screener. These objects are often returned when retrieving a screener using its ID or creating a new screener with a specific schema. Some notable fields of this type include: \n",
    "\n",
    "\n",
    "- **`name`** *(str, Required)*: The name of the base screener.\n",
    "\n",
    "\n",
    "- **`parameters`** *(ScreenerParameters, Required)*: An object of type ScreenerParameters that specifies the exact rows (ex. assets or indices) and columns (attributes) that should be visible in this screener. Only data conforming to the ScreenerParameters object of the screener can be published to the screener. This `ScreenerParameters` object also determines how values in the screener are updated over time. \n",
    "\n",
    "\n",
    "- **`id`** *(str, Optional)*: An ID that uniquely identifies this screener, which is permanent. As long as this screener is not deleted, this ID will reference the same screener. This ID can be used to retrieve screener information and data from permanent storage. \n",
    "\n",
    "\n",
    "- **`cron_schedule`** *(str, Required)*: A cron schedule expression to schedule a cron job using this screener. Currently, this feature is not implemented; however, the functions using `Screener` objects still expect a valid cron schedule expression in this location."
   ]
  },
  {
   "cell_type": "markdown",
   "id": "1b4ecf8e",
   "metadata": {},
   "source": [
    "### Function `get_screeners()`"
   ]
  },
  {
   "cell_type": "markdown",
   "id": "e38bfcc4",
   "metadata": {},
   "source": [
    "When new screeners are created, they are stored persistently. Function `get_screeners()` returns a list of all base screeners available to the user. Each screener or entry in this tuple is a `Screener` object that can be used to retrieve the screener's data, manipulate the screener, or create a new screener. "
   ]
  },
  {
   "cell_type": "code",
   "execution_count": null,
   "id": "fe113420",
   "metadata": {},
   "outputs": [],
   "source": [
    "# Usage Example: get_screeners()\n",
    "\n",
    "all_screeners = GsBaseScreenerApi.get_screeners()\n",
    "print(all_screeners)\n",
    "\n",
    "screener = all_screeners[0]\n",
    "\n",
    "print(f'\\nBase Screener Name: %s, Base Screener Column 1: %s, Base Screener ID: %s' \\\n",
    "      % (screener.name,  screener.parameters.columns[0].column_name, screener.id))"
   ]
  },
  {
   "cell_type": "markdown",
   "id": "29e18ed4",
   "metadata": {},
   "source": [
    "### Function `get_screener()`"
   ]
  },
  {
   "cell_type": "markdown",
   "id": "9ab25b7b",
   "metadata": {},
   "source": [
    "Use function `get_screener(screener_id)`to retrieve the `Screener` object for a specific screener using its ID. This function allows a user to search for a specific screener to view its schema and information. "
   ]
  },
  {
   "cell_type": "code",
   "execution_count": null,
   "id": "b1dbe4fa",
   "metadata": {},
   "outputs": [],
   "source": [
    "# Usage Example: get_screener()\n",
    "\n",
    "screener = GsBaseScreenerApi.get_screener('BSW3GT9DS8A86MTSH3')\n",
    "\n",
    "print(screener)\n",
    "\n",
    "print(f'\\nBase Screener Name: %s, Base Screener Column 1: %s, Base Screener ID: %s' \\\n",
    "      % (screener.name,  screener.parameters.columns[0].column_name, screener.id))"
   ]
  },
  {
   "cell_type": "markdown",
   "id": "289b201a",
   "metadata": {},
   "source": [
    "## Creating and Deleting Base Screeners "
   ]
  },
  {
   "cell_type": "markdown",
   "id": "22db9ccd",
   "metadata": {},
   "source": [
    "### Class `ScreenerRow`"
   ]
  },
  {
   "cell_type": "markdown",
   "id": "b0129a76",
   "metadata": {},
   "source": [
    "Class `ScreenerRow` defines a row or set of rows (i.e. assets or indices) that can be viewed in this screener. Note that this class does not publish data to a screener. Rather, `ScreenerRow` objects contain information about possible rows that the base screener's schema should accept. Tuples of `ScreenerRow` objects are added to the `rows` field of `ScreenerParameter` instances to define the rowwise schema of a screener; it is up to the user to then publish corresponding data to the screener in order to make this data visible. Notable fields of this type include: \n",
    "\n",
    "\n",
    "- **`entity_id`**, *(str, Required)*: The unique ID of the entity that this `ScreenerRow` adds to the rowwise schema.\n",
    "\n",
    "\n",
    "- **`entity_type`**, *(str, Required)*: The type of the entity specified in this `ScreenerRow` object. Currently, this field is not in use and can just be set to the string `'asset'`.\n",
    "\n",
    "\n",
    "- **`expand`**, *(bool, Optional)*: In the event that the asset is a positioned entity, such as an index or a mutual fund, a user can opt to enter all assets contained in this entity as their own rows in the schema by setting the `expand` field to be `True`. \n",
    "\n",
    "**Note:** Currently, although users specify individual assets for each row in the schema, these specifications are not strictly enforced. The screener will not reject data that is not one of the permitted assets specified in the schema, but it is best practice to create a schema that matches the intended data closely."
   ]
  },
  {
   "cell_type": "markdown",
   "id": "e2a8f007",
   "metadata": {},
   "source": [
    "### Class `ScreenerColumn`"
   ]
  },
  {
   "cell_type": "markdown",
   "id": "4582c75d",
   "metadata": {},
   "source": [
    "Class `ScreenerColumn` defines a single column to be added to a base screener's schema. Similarly to `ScreenerRow`, this class does not publish data to a screener. Rather, `ScreenerColumn` objects contain information about possible columns that the base screener's schema should accept. Tuples of `ScreenerColumn` objects are added to the `columns` field of `ScreenerParameter` instances to define the columnwise schema of a screener; it is up to the user to then publish corresponding data to the screener in order to make this data visible. Notable fields of this type include: \n",
    "\n",
    "\n",
    "- **`column_name`** *(str, Required)*: The name of the column to add to the base screener's schema.\n",
    "\n",
    "\n",
    "- **`entity_parameter`** *(str, Optional)*: The entity parameter name corresponding to the values in this column, if applicable. Specifying this field allows the screener to be automatically updated once per day with the correct value of this column for each asset. Possible `entity_parameter` values include `id`, `bbid`, `region`, `assetClass`, `currency`, `description`, `exchange`, `name`, `type`, `ric`, `region`, `assetClassificationsCountryName`, `assetClassificationsGicsSector`, and `assetClassificationGicsIndustry`.\n",
    "\n",
    "\n",
    "- **`expression`** *(str, Optional)*: The PlotTool expression to calculate this column, if applicable. For calculated columns, providing a PlotTool expression allows the screener to update once per day with the most recent value of this expression. No specific asset should be provided with this expression, as it will be applied individually to each asset in each row of the screener's data. Use the placeholder `ASSET` for an asset name in the expression where needed (ex. `\"ASSET.implied_volatility(1m, delta_call, 50)\"`).\n",
    "\n",
    "\n",
    "**Note**: Although both the `entity_parameter` and `expression` fields are optional, each individual column must fill out exactly one of these fields. Currently, base screeners do not support entering custom asset values not tied to expressions or entity information. "
   ]
  },
  {
   "cell_type": "markdown",
   "id": "29186dd9",
   "metadata": {},
   "source": [
    "### Class `ScreenerParameters`"
   ]
  },
  {
   "cell_type": "markdown",
   "id": "34dbfe0c",
   "metadata": {},
   "source": [
    "Class `ScreenerParameters` gathers and defines an entire schema for a base_screener. This schema object is then assigned to the `parameters` field in a `Screener` object when creating a new screen with this specific schema. Notable fields of this type include: \n",
    "\n",
    "\n",
    "- **`name`** *(str, Optional)*: The name of this schema. \n",
    "\n",
    "\n",
    "- **`rows`** *(ScreenerRow tuple, Required)*: A tuple of `ScreenerRow` objects that define each allowed data row in the schema.\n",
    "\n",
    "\n",
    "- **`columns`** *(ScreenerColumn tuple, Required)*: A tuple of `ScreenerColumn` objects that define the allowed columns in the schema."
   ]
  },
  {
   "cell_type": "markdown",
   "id": "188c1e26",
   "metadata": {},
   "source": [
    "### Function `create_screener()`"
   ]
  },
  {
   "cell_type": "markdown",
   "id": "743b9be8",
   "metadata": {},
   "source": [
    "To create a new base screener, pass a `Screener` object into the function `create_screener(screener)`. The `Screener` object should have the correct specifications for the new base screener, including a `parameters` field with a `ScreenParameters` object populated with the correct schema. The `id` field of the input `Screener` object can be left blank, as this function will return an identical `Screener` object to the input, except it will have its `id` field populated with the ID for the new base screener. \n",
    "\n",
    "The returning of the identical `Screener` objects confirms that the new base screener has the intended schema, which is also visible by using the `get_screener()` function with the new screener ID.\n",
    "\n",
    "**Note:** Only users who are members of the `PlotScreenerAdmins` group can use the `create_screener()` function to make new screeners."
   ]
  },
  {
   "cell_type": "markdown",
   "id": "1cb13147",
   "metadata": {},
   "source": [
    "### Function `delete_screener()`"
   ]
  },
  {
   "cell_type": "markdown",
   "id": "5684a951",
   "metadata": {},
   "source": [
    "Pass a screener's unique ID into the function `delete_screener(screener_id)` to permanently delete a base screener and all of its associated data. The screener will no longer be accessible to any user after this action. \n",
    "\n",
    "**Note:** Only users who are members of the `PlotScreenerAdmins` group can use the `delete_screener()` function to remove screeners."
   ]
  },
  {
   "cell_type": "code",
   "execution_count": null,
   "id": "63078318",
   "metadata": {},
   "outputs": [],
   "source": [
    "# Usage Example: create_screener(), delete_screener()\n",
    "\n",
    "# Create a Schema \n",
    "\n",
    "rows = (ScreenerRow(entity_id='MAYDMZQXXVXD9JK7', entity_type='asset'), \\\n",
    "        ScreenerRow(entity_id='MAQJQTVRMKVKX9FZ', entity_type='asset'))\n",
    "\n",
    "columns = (ScreenerColumn(column_name='Name', entity_parameter='name'), \\\n",
    "          ScreenerColumn(column_name='BBID', entity_parameter='bbid'), \\\n",
    "          ScreenerColumn(column_name='RSI 14 DAY', expression='relative_strength_index(ASSET.spot(), 14d)'),\\\n",
    "          ScreenerColumn(column_name='Skew', expression='ASSET.skew(1m, delta, 25, normalized)'))\n",
    "\n",
    "params = ScreenerParameters(rows=rows, columns=columns)\n",
    "\n",
    "cron_schedule = '5 4 * * *'\n",
    "\n",
    "schema = Screener(name='My New Screener', parameters=params, cron_schedule=cron_schedule)\n",
    "        \n",
    "# Create a New Screener \n",
    "\n",
    "new_screener = GsBaseScreenerApi.create_screener(schema)\n",
    "\n",
    "print(f'Screener Name: %s, Screener ID: %s\\n' % (new_screener.name, new_screener.id))\n",
    "\n",
    "# Delete Screener\n",
    "\n",
    "GsBaseScreenerApi.delete_screener(new_screener.id)\n"
   ]
  },
  {
   "cell_type": "markdown",
   "id": "142d742b",
   "metadata": {},
   "source": [
    "Additionally, we can use existing `Screener` objects and function `create_screener(screener)` to create new screeners by copying or modifying existing screeners. "
   ]
  },
  {
   "cell_type": "code",
   "execution_count": null,
   "id": "5b36b194",
   "metadata": {},
   "outputs": [],
   "source": [
    "# Example: Create a New Screener from an Existing Schema and Delete It\n",
    "\n",
    "# Retrieve Existing Screener\n",
    "\n",
    "screener = GsBaseScreenerApi.get_screener('BSW3GT9DS8A86MTSH3')\n",
    "\n",
    "print(f'Screener ID: %s, Screener Columns: %s\\n' \\\n",
    "      % (screener.id, [column.column_name for column in screener.parameters.columns]))\n",
    "\n",
    "# Modify Schema \n",
    "\n",
    "screener.parameters.columns = (screener.parameters.columns[0],)\n",
    "\n",
    "# Create a New Screener\n",
    "\n",
    "new_screener = GsBaseScreenerApi.create_screener(screener)\n",
    "\n",
    "print(f'New Screener ID: %s, New Screener Columns: %s' \\\n",
    "      % (new_screener.id, [column.column_name for column in new_screener.parameters.columns]))\n",
    "\n",
    "# Delete Screener \n",
    "\n",
    "GsBaseScreenerApi.delete_screener(new_screener.id)"
   ]
  },
  {
   "cell_type": "markdown",
   "id": "18404d92",
   "metadata": {},
   "source": [
    "## Viewing Base Screener Data\n",
    "\n",
    "\n",
    "To view data from a base screener, please create a `gs_quant` screen that sources data from this base screener and uses any desired filters. More information on how to create a screen can be found in the `gs_quant` screens tutorial. \n",
    "\n",
    "**Note**: Please wait a short amount of time between alternating operations of editing the base screener and viewing its data to allow time for the base screener to update. Using the python `sleep(seconds)` function in the `time` module between operations is a simple way to ensure consistency when viewing recently edited data from a base screener. Between nearby operations, `sleep(1)` should be sufficient."
   ]
  },
  {
   "cell_type": "markdown",
   "id": "d87d18ef",
   "metadata": {},
   "source": [
    "## Publishing Data to Base Screeners and Clearing Screeners"
   ]
  },
  {
   "cell_type": "markdown",
   "id": "bca147f8",
   "metadata": {},
   "source": [
    "### Function `clear_screener()`"
   ]
  },
  {
   "cell_type": "markdown",
   "id": "de202b51",
   "metadata": {},
   "source": [
    "To clear a base screener of its data, use the function `clear_screener(screener_id)` with the screener ID of the base screener being cleared. The base screener schema will still be permanently stored and accessible with the same ID, but the screener will be empty."
   ]
  },
  {
   "cell_type": "markdown",
   "id": "d65fae34",
   "metadata": {},
   "source": [
    "### Data Publishing Format"
   ]
  },
  {
   "cell_type": "markdown",
   "id": "5871eff3",
   "metadata": {},
   "source": [
    "After a base screener is created using a schema, data following this schema can be added to the screener. \n",
    "\n",
    "\n",
    "`gs_quant`'s publishing function accepts data as a dictionary containing a single list of dictionaries. Each dictionary in the list identifies a single row (or asset) of data. The keys of the dictionary must match the names of columns in the schema, and the value corresponding to a specific key will be the value entered at this column for a particular asset. Including additional keys within data rows will cause an error, and no data will be published to the screener. Including fewer keys within data rows will cause unspecified columns to have an empty value for this asset. This complete list of dictionaries is then inserted as the value of the `'rows'` key in an outer dictionary. \n",
    "\n",
    "\n",
    "In addition to column name-value pairs within row dictionaries, users can also optionally include a unique `'id'` key and value in each row of data. This `'id'` key allows users to overwrite specific rows with new data after earlier data has already been published to the screener. If no `'id'` key is specified when data is first published, each row will automatically be given a unique ID that can be retrieved when the screener's data is viewed. If a data row is re-published with the same `'id'` value, this data row will be overwritten in favor of newer data. If a data row is re-published without specifying an ID, a new data row will be appended to the screener regardless of whether or not this data already exists in the base screener.  \n",
    "\n",
    "\n",
    "Below is an example of a correctly formatted data dictionary. "
   ]
  },
  {
   "cell_type": "code",
   "execution_count": null,
   "id": "94543cdd",
   "metadata": {},
   "outputs": [],
   "source": [
    "# Example: Data Format\n",
    "\n",
    "{\n",
    "    'rows':[\n",
    "    {\n",
    "      'id': 0, # Specifies a unique ID \n",
    "      'Name': 'Obalon Therapeutics Inc',\n",
    "      'Entity ID': 'ABDFDSCD',\n",
    "      'BBID': 'DSE',\n",
    "      'Impliedretailbuynotional': 4.0,\n",
    "      'Notional': 450.3,\n",
    "      'Implied / realized': 14.2\n",
    "    },\n",
    "    {\n",
    "      'Name': 'Disney Inc', # Does not specify a unique ID\n",
    "      'Entity ID': 'ABDFDSCe',\n",
    "      'BBID': 'DIS',\n",
    "      'Impliedretailbuynotional': 4.0,\n",
    "      'Notional': 45.0,\n",
    "      'Implied / realized': 14.0\n",
    "    }\n",
    "        \n",
    "    ]\n",
    "}"
   ]
  },
  {
   "cell_type": "markdown",
   "id": "02a0004d",
   "metadata": {},
   "source": [
    "### Function `publish_to_screener()`"
   ]
  },
  {
   "cell_type": "markdown",
   "id": "56c9df1c",
   "metadata": {},
   "source": [
    "Use function `publish_to_screener(screener_id, data)` to publish the specified data to the base screener with the corresponding screener ID. This function returns a copy of the data published, along with additional storage information. \n",
    "\n",
    "Any data that includes an `'id'` field will overwrite any existing row with the same `'id'` value or add a new row with this ID if none exists. Any data that is provided without a specified `'id'` value will be appended to any existing screener data. Publishing to a screener mulitple times will not erase any previously published data unless it is overwritten through the use of row IDs. \n",
    "\n",
    "**Note:** Only users who are members of the `PlotScreenerAdmins` group can use the `publish_to_screener()` function to add data to existing screeners."
   ]
  },
  {
   "cell_type": "code",
   "execution_count": null,
   "id": "7bf59ad5",
   "metadata": {},
   "outputs": [],
   "source": [
    "# Usage Example: publish_to_screener(), clear_screener()\n",
    "\n",
    "# Create Screener\n",
    "\n",
    "rows = (ScreenerRow(entity_id='MAYDMZQXXVXD9JK7', entity_type='asset'),)\n",
    "\n",
    "columns = (ScreenerColumn(column_name='Name', entity_parameter='name'),)\n",
    "\n",
    "params = ScreenerParameters(rows=rows, columns=columns)\n",
    "\n",
    "cron_schedule = '5 4 * * *' \n",
    "\n",
    "schema = Screener(name='My New Screener', parameters=params, cron_schedule=cron_schedule)\n",
    "\n",
    "screener = GsBaseScreenerApi.create_screener(schema)\n",
    "\n",
    "# Publish data to screener \n",
    "\n",
    "data = {\n",
    "    'rows':[\n",
    "    {\n",
    "      'id': 0, # Specifies a unique ID \n",
    "      'Name': 'Obalon Therapeutics Inc',\n",
    "    }\n",
    "    ]\n",
    "}\n",
    "\n",
    "GsBaseScreenerApi.publish_to_screener(screener.id, data)\n",
    "\n",
    "sleep(1) # Sleep to Ensure Viewing Consistency \n",
    "\n",
    "# Create an Empty Screen to View Screener Data \n",
    "\n",
    "screen_schema = AnalyticsScreen(name='My View', filter_parameters=FilterRequest(), base_screener=screener.id)\n",
    "\n",
    "screen = GsDataScreenApi.create_screen(screen_schema)\n",
    "\n",
    "view_data = GsDataScreenApi.filter_screen(screen.id, screen.filter_parameters)\n",
    "\n",
    "print(f'Screener %s with Initial Data:\\n' % (screener.id))\n",
    "\n",
    "display(pd.DataFrame(view_data))\n",
    "\n",
    "# Re-Publish to a Screener \n",
    "\n",
    "new_data = {\n",
    "    'rows':[\n",
    "    {\n",
    "        'id': 0, # Overwrite this Row\n",
    "        'Name': 'MY NEW NAME',\n",
    "    }, \n",
    "    {\n",
    "        'Name': 'Disney Inc'\n",
    "    }\n",
    "    ]\n",
    "}\n",
    "\n",
    "GsBaseScreenerApi.publish_to_screener(screener.id, new_data)\n",
    "\n",
    "sleep(1)\n",
    "\n",
    "# View Screener Data \n",
    "\n",
    "view_data = GsDataScreenApi.filter_screen(screen.id, screen.filter_parameters)\n",
    "\n",
    "print(f'\\nScreener %s with Re-Published Data:\\n' % (screener.id))\n",
    "\n",
    "display(pd.DataFrame(view_data))\n",
    "\n",
    "# Clear Screener \n",
    "\n",
    "GsBaseScreenerApi.clear_screener(screener.id)\n",
    "\n",
    "sleep(1)\n",
    "\n",
    "view_data = GsDataScreenApi.filter_screen(screen.id, screen.filter_parameters)\n",
    "\n",
    "print(f'\\nCleared Screener %s Data:\\n' % (screener.id))\n",
    "\n",
    "display(pd.DataFrame(view_data))\n",
    "\n",
    "# Delete Screen and Screener\n",
    "\n",
    "GsDataScreenApi.delete_screen(screen.id)\n",
    "\n",
    "GsBaseScreenerApi.delete_screener(screener.id) \n"
   ]
  },
  {
   "cell_type": "markdown",
   "id": "81af2906",
   "metadata": {},
   "source": [
    "## Editing Base Screeners"
   ]
  },
  {
   "cell_type": "markdown",
   "id": "1ca52c15",
   "metadata": {},
   "source": [
    "### Function `edit_screener()`"
   ]
  },
  {
   "cell_type": "markdown",
   "id": "452b52a5",
   "metadata": {},
   "source": [
    "To modify the schema of a base screener, use the function `edit_screener(screener_id, screener)` with the screener ID of the screener to modify and a `Screener` object specifying the schema that this screener should now have. \n",
    "\n",
    "\n",
    "It is best practice to clear the screener of any existing data before making modifications to its schema. Then, users can re-publish their data to take full advantage of the new schema without needing to manually adjust individual rows. \n",
    "\n",
    "\n",
    "`edit_screener(screener_id, screener)` will throw an error if the screener ID provided does not match the ID field in the `Screener` object provided.\n",
    "\n",
    "\n",
    "**Note:** Only users who are members of the `PlotScreenerAdmins` group can use the `edit_screener()` function to modify existing screeners."
   ]
  },
  {
   "cell_type": "code",
   "execution_count": null,
   "id": "739eedee",
   "metadata": {},
   "outputs": [],
   "source": [
    "# Usage Example: edit_screener()\n",
    "\n",
    "# Create Screener \n",
    "\n",
    "rows = (ScreenerRow(entity_id='MAYDMZQXXVXD9JK7', entity_type='asset'),)\n",
    "\n",
    "columns = (ScreenerColumn(column_name='Name', entity_parameter='name'),)\n",
    "\n",
    "params = ScreenerParameters(rows=rows, columns=columns)\n",
    "\n",
    "cron_schedule = '5 4 * * *'\n",
    "\n",
    "schema = Screener(name='My New Screener', parameters=params, cron_schedule=cron_schedule)\n",
    "\n",
    "screener = GsBaseScreenerApi.create_screener(schema)\n",
    "\n",
    "print(f'Screener ID: %s, Columns: %s\\n' % (screener.id, [col.column_name for col in screener.parameters.columns]))\n",
    "\n",
    "# Create Screen\n",
    "\n",
    "screen_schema = AnalyticsScreen(name='My View', filter_parameters=FilterRequest(), base_screener=screener.id)\n",
    "\n",
    "screen = GsDataScreenApi.create_screen(screen_schema)\n",
    "\n",
    "# Publish Data and View\n",
    "\n",
    "data = {\n",
    "    'rows':[\n",
    "    {\n",
    "        'id': 0, \n",
    "        'Name': 'Obalon Therapeutics Inc',\n",
    "    }\n",
    "    ]\n",
    "}\n",
    "\n",
    "GsBaseScreenerApi.publish_to_screener(screener.id, data)\n",
    "\n",
    "sleep(1)\n",
    "\n",
    "view_data = GsDataScreenApi.filter_screen(screen.id, screen.filter_parameters)\n",
    "\n",
    "print(f'Screener %s Data:\\n' % (screener.id))\n",
    "\n",
    "display(pd.DataFrame(view_data))\n",
    "\n",
    "# Clear Data \n",
    "\n",
    "GsBaseScreenerApi.clear_screener(screener.id)\n",
    "\n",
    "# Edit Screener Schema (Columns)\n",
    "\n",
    "screener.parameters.columns = screener.parameters.columns + (ScreenerColumn(column_name='BBID',entity_parameter='bbid'),)\n",
    "                                                             \n",
    "updated_screener = GsBaseScreenerApi.edit_screener(screener.id, screener)\n",
    "\n",
    "# View Screener Columns \n",
    "\n",
    "print(f'\\nScreener ID: %s, Columns: %s' % (updated_screener.id, [col.column_name for col in updated_screener.parameters.columns]))\n",
    "\n",
    "# Publish Data and View \n",
    "\n",
    "data = {\n",
    "    'rows':[\n",
    "    {\n",
    "        'id': 0, \n",
    "        'Name': 'Obalon Therapeutics Inc',\n",
    "        'BBID': 'DSE'\n",
    "    }\n",
    "    ]\n",
    "}\n",
    "\n",
    "GsBaseScreenerApi.publish_to_screener(screener.id, data)\n",
    "\n",
    "sleep(1)\n",
    "\n",
    "view_data = GsDataScreenApi.filter_screen(screen.id, screen.filter_parameters)\n",
    "\n",
    "print(f'\\nScreener %s Data:\\n' % (updated_screener.id))\n",
    "\n",
    "display(pd.DataFrame(view_data))\n",
    "\n",
    "# Delete Screen and Screener\n",
    "\n",
    "GsDataScreenApi.delete_screen(screen.id)\n",
    "\n",
    "GsBaseScreenerApi.delete_screener(updated_screener.id)\n"
   ]
  },
  {
   "cell_type": "markdown",
   "id": "97f8519d",
   "metadata": {},
   "source": [
    "If an additional column is added to the schema without clearing the screener, all previously existing rows will have no value in the new column. The old data in these rows will remain the same. To fill in data for existing rows in the new column, users will need to manually re-publish data for all columns of each existing row using the corresponding row IDs. This method will completely overwrite the data in each specified row to better fit the new schema. "
   ]
  },
  {
   "cell_type": "code",
   "execution_count": null,
   "id": "ea77601c",
   "metadata": {},
   "outputs": [],
   "source": [
    "# Example: Manually Editing Rows\n",
    "\n",
    "# Create Screener \n",
    "\n",
    "rows = (ScreenerRow(entity_id='MAYDMZQXXVXD9JK7', entity_type='asset'),)\n",
    "\n",
    "columns = (ScreenerColumn(column_name='Name', entity_parameter='name'),)\n",
    "\n",
    "params = ScreenerParameters(rows=rows, columns=columns)\n",
    "\n",
    "cron_schedule = '5 4 * * *'\n",
    "\n",
    "schema = Screener(name='My New Screener', parameters=params, cron_schedule=cron_schedule)\n",
    "\n",
    "screener = GsBaseScreenerApi.create_screener(schema)\n",
    "\n",
    "print(f'Screener ID: %s, Columns: %s\\n' % (screener.id, [col.column_name for col in screener.parameters.columns]))\n",
    "\n",
    "# Create Screen\n",
    "\n",
    "screen_schema = AnalyticsScreen(name='My View', filter_parameters=FilterRequest(), base_screener=screener.id)\n",
    "\n",
    "screen = GsDataScreenApi.create_screen(screen_schema)\n",
    "\n",
    "# Publish Data and View\n",
    "\n",
    "data = {\n",
    "    'rows':[\n",
    "    {\n",
    "        'id': 0, \n",
    "        'Name': 'Obalon Therapeutics Inc',\n",
    "    }\n",
    "    ]\n",
    "}\n",
    "\n",
    "GsBaseScreenerApi.publish_to_screener(screener.id, data)\n",
    "\n",
    "sleep(1)\n",
    "\n",
    "view_data = GsDataScreenApi.filter_screen(screen.id, screen.filter_parameters)\n",
    "\n",
    "print(f'Screener %s Data:\\n' % (screener.id))\n",
    "\n",
    "display(pd.DataFrame(view_data))\n",
    "\n",
    "# Edit Screener Schema \n",
    "\n",
    "screener.parameters.columns = screener.parameters.columns + (ScreenerColumn(column_name='BBID',entity_parameter='bbid'),)\n",
    "                                                             \n",
    "updated_screener = GsBaseScreenerApi.edit_screener(screener.id, screener)\n",
    "\n",
    "sleep(1)\n",
    "\n",
    "# View Screener Columns \n",
    "\n",
    "print(f'\\nScreener ID: %s, Columns: %s' % (updated_screener.id, [col.column_name for col in updated_screener.parameters.columns]))\n",
    "\n",
    "# Publish Additional Data\n",
    "\n",
    "data = {\n",
    "    'rows':[\n",
    "    {\n",
    "        'id': 1,\n",
    "        'Name': 'Disney Inc',\n",
    "        'BBID': 'DIS'\n",
    "    }\n",
    "    ]\n",
    "}\n",
    "\n",
    "GsBaseScreenerApi.publish_to_screener(updated_screener.id, data)\n",
    "\n",
    "sleep(1)\n",
    "\n",
    "# View Screener Data\n",
    "\n",
    "view_data = GsDataScreenApi.filter_screen(screen.id, screen.filter_parameters)\n",
    "\n",
    "print(f'\\nScreener %s Data:\\n' % (updated_screener.id))\n",
    "\n",
    "display(pd.DataFrame(view_data))\n",
    "\n",
    "# Delete Screen and Screener\n",
    "\n",
    "GsDataScreenApi.delete_screen(screen.id)\n",
    "\n",
    "GsBaseScreenerApi.delete_screener(updated_screener.id)\n"
   ]
  }
 ],
 "metadata": {
  "kernelspec": {
   "display_name": "Python 3 (ipykernel)",
   "language": "python",
   "name": "python3"
  },
  "language_info": {
   "codemirror_mode": {
    "name": "ipython",
    "version": 3
   },
   "file_extension": ".py",
   "mimetype": "text/x-python",
   "name": "python",
   "nbconvert_exporter": "python",
   "pygments_lexer": "ipython3",
   "version": "3.7.4"
  }
 },
 "nbformat": 4,
 "nbformat_minor": 5
}
