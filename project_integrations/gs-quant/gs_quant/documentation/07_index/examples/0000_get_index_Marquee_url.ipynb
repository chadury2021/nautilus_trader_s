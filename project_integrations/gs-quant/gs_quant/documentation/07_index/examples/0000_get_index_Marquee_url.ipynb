{
 "cells": [
  {
   "cell_type": "code",
   "execution_count": null,
   "id": "c2ec89ec",
   "metadata": {},
   "outputs": [],
   "source": [
    "from gs_quant.markets.index import Index\n",
    "from gs_quant.session import Environment, GsSession"
   ]
  },
  {
   "cell_type": "code",
   "execution_count": null,
   "id": "de70c758",
   "metadata": {},
   "outputs": [],
   "source": [
    "# external users should substitute their client id and secret; please skip this step if using internal jupyterhub\n",
    "GsSession.use(Environment.PROD, client_id=None, client_secret=None)"
   ]
  },
  {
   "cell_type": "code",
   "execution_count": null,
   "id": "f384ea49",
   "metadata": {},
   "outputs": [],
   "source": [
    "index = Index.get('GSXXXXXX')  # substitute input with any identifier for an Index\n",
    "index.get_url()                # url to view index on Marquee"
   ]
  },
  {
   "cell_type": "markdown",
   "source": [
    "*Have any other questions? Reach out to the [Marquee STS team](mailto:gs-marquee-sts-support@gs.com)!*"
   ],
   "metadata": {
    "collapsed": false,
    "pycharm": {
     "name": "#%% md\n"
    }
   }
  }
 ],
 "metadata": {
  "kernelspec": {
   "display_name": "Python 3",
   "language": "python",
   "name": "python3"
  },
  "language_info": {
   "codemirror_mode": {
    "name": "ipython",
    "version": 3
   },
   "file_extension": ".py",
   "mimetype": "text/x-python",
   "name": "python",
   "nbconvert_exporter": "python",
   "pygments_lexer": "ipython3",
   "version": "3.8.6"
  }
 },
 "nbformat": 4,
 "nbformat_minor": 5
}