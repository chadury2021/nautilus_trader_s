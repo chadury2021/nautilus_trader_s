{
 "cells": [
  {
   "cell_type": "markdown",
   "metadata": {},
   "source": [
    "<!-- </style><figure align = \"left\" style=\"page-break-inside: avoid;\"><figcaption style=\"font-weight: bold; font-size:16pt; font-family:inherit;\" align=\"center\"></figcaption><br> --> \n",
    "<img src= \"images/APEX.png\">\n"
   ]
  },
  {
   "cell_type": "markdown",
   "metadata": {},
   "source": [
    "## Introduction: What's APEX?\n",
    "APEX is a portfolio trade scheduler that optimizes execution with the latest intraday risk and market impact models from Goldman Sachs’ Quantitative Execution Services (QES) team.\n",
    "\n",
    "## Modeling Pillars\n",
    "<img src= \"images/three_pillars.png\">\n",
    "\n",
    "## Constraints and Features\n",
    "<img src= \"images/apex_constraints_and_features.png\">\n",
    "\n",
    "## The APEX Trade Lifecycle\n",
    "<img src= \"images/how_apex_works.png\">"
   ]
  },
  {
   "cell_type": "markdown",
   "metadata": {},
   "source": [
    "### First, let's load a sample portfolio:\n",
    "#### Import Libs and Utils:"
   ]
  },
  {
   "cell_type": "code",
   "execution_count": null,
   "metadata": {},
   "outputs": [],
   "source": [
    "from qes_utils import persistXls, plotCost, plotVar, plotBuySellNet, plotGrossRemaining, plotMultiStrategyPortfolioLevelAnalytics\n",
    "\n",
    "from gs_quant.api.gs.assets import GsAssetApi\n",
    "from gs_quant.session import GsSession, Environment\n",
    "from gs_quant.common import Position\n",
    "from gs_quant.target.risk import OptimizationRequest, OptimizationType\n",
    "from gs_quant.api.gs.risk import GsRiskApi\n",
    "\n",
    "import matplotlib.pyplot as plt\n",
    "import pandas as pd\n",
    "import datetime\n",
    "import numpy as np\n",
    "import copy\n",
    "import datetime\n",
    "from matplotlib import cm"
   ]
  },
  {
   "cell_type": "markdown",
   "metadata": {},
   "source": [
    "#### Establish GS_Quant Connection: "
   ]
  },
  {
   "cell_type": "markdown",
   "metadata": {},
   "source": [
    "- Fill in client_id and client_secret\\\n",
    "- Set up Marquee API: https://marquee.gs.com/s/developer/docs/getting-started\n",
    "- Once you create the application, click on the Application page and scroll down to the ‘Scope’ section. Request the “read_product_date”& “run_analytics” scope for your application. "
   ]
  },
  {
   "cell_type": "code",
   "execution_count": null,
   "metadata": {},
   "outputs": [],
   "source": [
    "print('INFO: Setting up Marquee Connection')\n",
    "client_id =\n",
    "client_secret =\n",
    "GsSession.use(Environment.PROD, client_id=client_id, client_secret=client_secret, scopes=['read_product_data', 'run_analytics'])"
   ]
  },
  {
   "cell_type": "markdown",
   "metadata": {},
   "source": [
    "#### Set up the portfolio: "
   ]
  },
  {
   "cell_type": "code",
   "execution_count": null,
   "metadata": {},
   "outputs": [],
   "source": [
    "print('INFO: Setting up portfolio to schedule using APEX...')\n",
    "portfolio_input = pd.read_csv('trade_list_world.csv').rename(columns={'Symbol': 'sedol', 'Shares': 'qty'})\n",
    "portfolio_input.dtypes"
   ]
  },
  {
   "cell_type": "markdown",
   "metadata": {},
   "source": [
    "#### Convert Identifier (SEDOL) to marqueeids:"
   ]
  },
  {
   "cell_type": "markdown",
   "metadata": {},
   "source": [
    "SEDOL access needs to be requested on Marquee with the following steps:\n",
    "- Go to https://marquee.gs.com/s/developer/datasets/SEDOL \n",
    "- Select an application to request access for \n",
    "- Request will be auto approved"
   ]
  },
  {
   "cell_type": "code",
   "execution_count": null,
   "metadata": {},
   "outputs": [],
   "source": [
    "assets = GsAssetApi.get_many_assets(sedol=list(portfolio_input['sedol']), fields=['sedol', 'rank'], listed=[True], type='Single Stock')\n",
    "identifier_to_marqueeid_map = pd.DataFrame([{'sedol': list(filter(lambda x: x.type=='SED', i.identifiers))[0].value, 'ID': i.id, 'rank': i.rank} for i in assets])\\\n",
    "                               .sort_values(['sedol', 'rank'], ascending=False).groupby('sedol').head(1)[['sedol','ID']].rename(columns={'ID': 'marqueeid'})\n",
    "print(f'found {len(identifier_to_marqueeid_map)} sedols to mrquee ids map...')"
   ]
  },
  {
   "cell_type": "markdown",
   "metadata": {},
   "source": [
    "#### Identify assets with missing marquee ids and drop them from the portfolio"
   ]
  },
  {
   "cell_type": "code",
   "execution_count": null,
   "metadata": {},
   "outputs": [],
   "source": [
    "portfolio_input = portfolio_input.merge(identifier_to_marqueeid_map, how='left', on='sedol')\n",
    "\n",
    "missing_marqueeids = portfolio_input[portfolio_input['marqueeid'].isnull()]\n",
    "if len(missing_marqueeids):\n",
    "    print(f'WARNING: the following bbids are missing marqueeids:\\n{missing_marqueeids}\\ndropping from the optimization...')\n",
    "else: \n",
    "    print('INFO: all the assets has been succesfuly converted to marquee id')\n",
    "portfolio_input = portfolio_input.dropna()\n",
    "portfolio_input.head()"
   ]
  },
  {
   "cell_type": "markdown",
   "metadata": {},
   "source": [
    "###  At this point, we have a portfolio we can optimize using APEX.\n",
    "Our portfolio is now ready for optimization with APEX.\n",
    "###  We'll run two variations:\n",
    "#####  1. single optimization analysis - optimize the basket using defined parameters and investigate the cost-risk trade-off.\n",
    "#####  2. trade scenario analysis - run multiple optimizations upon different risk aversion (urgency) parameters and compare the cost-risk trade-off among optimized execution strategies"
   ]
  },
  {
   "cell_type": "markdown",
   "metadata": {},
   "source": [
    "### 1. APEX Optimization: run my trade list in the APEX optimizer and explore the various analytics:\n",
    "#### in this section, we'll explore how to set optimization parameters and how to display multiple optimal trajectory analytics to develop further intuition for the decisions made by APEX\n",
    "\n",
    "we'll run an APEX-IS (Arrival) risk-cost minimization optimal trade allocation, in the following form:\n",
    "\\begin{equation*}\n",
    "Min \\displaystyle \\Bigg( \\lambda \\sum_{t=1}^T (\\mbox{Risk of Residual Holdings}) + (1-\\lambda) \\sum_{t=1}^T (\\mbox{Market Impact of Trades}) \\Bigg) \n",
    "\\end{equation*}\n",
    "\\begin{equation*}s.t.\\end{equation*}\n",
    "\\begin{equation*}Ax <= b\\end{equation*}\n",
    "\n",
    "where:\n",
    "\\begin{equation*}(\\mbox{Risk of Residual Holdings})\\end{equation*} \n",
    "- Incorporates the intraday and overnight expected risk, utilizing our high frequency intraday QES covariances. in other words, \"every $ I decided to trade later, is running at the Risk of missing the arrival price\"\n",
    "\n",
    "\\begin{equation*}(\\mbox{Market Impact of Trades})\\end{equation*}\n",
    "- Denote the expected market impact per asset, as a function of the physical interaction with the order book. in other words, \"every $ that I will trade now, will incur some expected market impact, based on the intraday predicted evolution of spread\\volume\\volatility\\participation rate, and other intraday calibrated parameters\"\n",
    "\n",
    "\\begin{equation*}\\lambda\\end{equation*}\n",
    "- Risk Aversion parameter\n",
    "\n",
    "\\begin{equation*}Ax <= b\\end{equation*}\n",
    "- set of linear constraints (see features available at the top of the notebook)"
   ]
  },
  {
   "cell_type": "markdown",
   "metadata": {},
   "source": [
    "#### Set up the optimization constraints\n",
    "\n",
    "| Optimisation Parameters | Description | Value Chosen |\n",
    "| :- | :- | -: |\n",
    "| Start Time \\ End Time | APEX allowed \"Day1\" trade horizon, in GMT* | 11pm previous day to 11pm |\n",
    "| Urgency | APEX Urgency, from VERY_LOW to VERY_HIGH | Medium |\n",
    "| Target Benchmark | Currently supports 'IS', 'CLOSE' | IS |\n",
    "| Imbalance | (Optional) setting dollar imbalance for the trade duration; \"the net residual must be within +-5% of the residual gross to trade, throughout the entire trade duration\" | 0.05 (5%) |\n",
    "| Participation rate | Setting volume cap for trading | 0.075 (7.5%) |\n",
    "\n",
    "- Note that APEX allowed start end times range from 23:00 previous day to 23:00 of the query day.\n",
    "  For example, if today is the 9th of October, APEX global optimization can run from start time of 23:00 on T-1 to 23:00 on T.\n",
    "- Please also note that APEX will automatically optimize up to 5 business days, providing an optimized intraday solution with granularity of 30\\60 minutes.\n",
    "- For a full set of parameters, please refer to the constraints & features image at the top, review the APEX api guide or contact [gs-qes-quant@gs.com](mailto:gs-qes-quant@gs.com)\n"
   ]
  },
  {
   "cell_type": "code",
   "execution_count": null,
   "metadata": {},
   "outputs": [],
   "source": [
    "## set optimization configuration\n",
    "print('INFO: Constructing Optimization Request...')\n",
    "date_today = datetime.datetime.now().strftime('%Y-%m-%d')\n",
    "date_yesterday = (datetime.datetime.now() - datetime.timedelta(days=1)).strftime('%Y-%m-%d')\n",
    "\n",
    "apex_optimization_config =  {\n",
    "                 'executionStartTime': date_yesterday + 'T23:00:00.000Z',  #execution start time\n",
    "                 'executionEndTime': date_today +'T21:15:00.000Z',  # execution end time (for day 1, can run multiday if not complete on day 1)\n",
    "                 'waitForResults': False,\n",
    "                 'parameters': {'urgency': 'MEDIUM',  #VERY_LOW, LOW, HIGH, VERY_HIGH...\n",
    "                                'targetBenchmark': 'IS',  #CLOSE\n",
    "                                'imbalance': 0.05,  #Optional --> setting $ imbalance for the trade duration to never exceed +-20% of residual gross to trade\n",
    "                                'participationRate': 0.075 #setting volume cap of 10%\n",
    "                                },\n",
    "                 }"
   ]
  },
  {
   "cell_type": "markdown",
   "metadata": {},
   "source": [
    "#### Send Optimization + Analytics request to Marquee"
   ]
  },
  {
   "cell_type": "code",
   "execution_count": null,
   "metadata": {},
   "outputs": [],
   "source": [
    "def sendApexRequestAndGetAnalytics(portfolio_input, apex_optimization_config):\n",
    "    positions = [Position(asset_id=row.marqueeid, quantity=row.qty) for _, row in portfolio_input.iterrows()]\n",
    "    print('setting up the optimization request....')\n",
    "    request = OptimizationRequest(positions=positions,\n",
    "                                  execution_start_time=apex_optimization_config['executionStartTime'],\n",
    "                                  execution_end_time=apex_optimization_config['executionEndTime'],\n",
    "                                  parameters=apex_optimization_config['parameters'],\n",
    "                                  **{'type': OptimizationType.APEX})\n",
    "    print('Sending the request to the marquee service...')\n",
    "    opt = GsRiskApi.create_pretrade_execution_optimization(request)\n",
    "    analytics_results = GsRiskApi.get_pretrade_execution_optimization(opt.get('optimizationId'))\n",
    "    print ('COMPLETE!')\n",
    "    return analytics_results\n",
    "\n",
    "results_dict = sendApexRequestAndGetAnalytics(portfolio_input, apex_optimization_config)"
   ]
  },
  {
   "cell_type": "code",
   "execution_count": null,
   "metadata": {},
   "outputs": [],
   "source": [
    "print('INFO: High Level Cost estimation and % expected Completion:')\n",
    "pd.DataFrame(results_dict['analytics']['portfolioAnalyticsDaily']).set_index('tradeDayNumber')"
   ]
  },
  {
   "cell_type": "code",
   "execution_count": null,
   "metadata": {},
   "outputs": [],
   "source": [
    "print('missing assets:')\n",
    "pd.DataFrame(results_dict['analytics']['assetsExcluded'])"
   ]
  },
  {
   "cell_type": "markdown",
   "metadata": {},
   "source": [
    "#### Actual Optimization Parameters Used in APEX\n",
    "- Although a set of optimization parameters was specified above, APEX might conclude that the parameters joined feasible space does not exist (infeasible set).\n",
    "- APEX can then choose to soften/drop/relax the constraints in a hierarchical fashion. "
   ]
  },
  {
   "cell_type": "code",
   "execution_count": null,
   "metadata": {},
   "outputs": [],
   "source": [
    "constraints_hierarchy = pd.DataFrame(results_dict['analytics']['constraintsConsultations'])['constraints']\n",
    "pd.concat([pd.DataFrame(constraints_hierarchy.values[i]).assign(iteration=i) for i in constraints_hierarchy.index]).set_index(['iteration', 'name'])['status'].unstack().T"
   ]
  },
  {
   "cell_type": "markdown",
   "metadata": {},
   "source": [
    "#### What kind of Analytics provided by APEX ?\n",
    "##### APEX provide a vast set of numbers that helps understanding unravel the decision made by the optimizer:"
   ]
  },
  {
   "cell_type": "code",
   "execution_count": null,
   "metadata": {},
   "outputs": [],
   "source": [
    "results_dict['analytics'].keys()"
   ]
  },
  {
   "cell_type": "markdown",
   "metadata": {},
   "source": [
    "#### Visualise Your Optimisation Results"
   ]
  },
  {
   "cell_type": "code",
   "execution_count": null,
   "metadata": {},
   "outputs": [],
   "source": [
    "analytics_result_analytics = results_dict['analytics'] \n",
    "intraday = pd.DataFrame(analytics_result_analytics['portfolioAnalyticsIntraday'])\n",
    "intraday_to_plot = intraday.assign(time = lambda x: pd.to_datetime(x['time'])).set_index('time')"
   ]
  },
  {
   "cell_type": "markdown",
   "metadata": {},
   "source": [
    "#### Four examples of visualizing your intraday analysis throughout trade date\n",
    "- Gross Remaining\n",
    "- Buy/Sell/Net\n",
    "- Cost Contribution\n",
    "- Risk Contribution "
   ]
  },
  {
   "cell_type": "code",
   "execution_count": null,
   "metadata": {},
   "outputs": [],
   "source": [
    "intraday_to_plot.head(5).append(intraday_to_plot.tail(5))"
   ]
  },
  {
   "cell_type": "code",
   "execution_count": null,
   "metadata": {},
   "outputs": [],
   "source": [
    "plotGrossRemaining(intraday_to_plot)\n",
    "plotBuySellNet(intraday_to_plot)\n",
    "plotCost(intraday_to_plot)\n",
    "plotVar(intraday_to_plot)"
   ]
  },
  {
   "cell_type": "markdown",
   "metadata": {},
   "source": [
    "###### Sources: Goldman Sachs, Bloomberg, Reuters, Axioma"
   ]
  },
  {
   "cell_type": "markdown",
   "metadata": {},
   "source": [
    "##### The creativity around various analytics are endless, here are couple of examples, derived from the various analytics dataframes we use for our APEX clients:\n",
    "\n",
    "<img src= \"images/apex_analytics_examples.png\">"
   ]
  },
  {
   "cell_type": "markdown",
   "metadata": {},
   "source": [
    "###### Sources: Goldman Sachs, Bloomberg, Reuters, Axioma"
   ]
  },
  {
   "cell_type": "markdown",
   "metadata": {},
   "source": [
    "##### save all results to excel for further exploration:"
   ]
  },
  {
   "cell_type": "code",
   "execution_count": null,
   "metadata": {},
   "outputs": [],
   "source": [
    "xls_path = persistXls(xls_report=results_dict['analytics'],\n",
    "                                  path='',\n",
    "                                  filename='apex_optimization_detailed_analytics',\n",
    "                                  indentifier_marqueeid_map=portfolio_input[\n",
    "                                      [identifier_type, 'marqueeid']])\n",
    "print('saving all analytics frames to {0}...'.format(xls_path))"
   ]
  },
  {
   "cell_type": "markdown",
   "metadata": {},
   "source": [
    "<img src= \"images/apex_excel_example.png\">"
   ]
  },
  {
   "cell_type": "markdown",
   "metadata": {},
   "source": [
    "### 2. APEX Optimization - Trade Scenario Analysis: run my trade list in the APEX optimizer across multiple risk aversions\\urgency parameters to assess ideal parameters set."
   ]
  },
  {
   "cell_type": "markdown",
   "metadata": {},
   "source": [
    "#### Define a function for running multiple optimizations, keeping all constrains intact and change urgency only:"
   ]
  },
  {
   "cell_type": "code",
   "execution_count": null,
   "metadata": {},
   "outputs": [],
   "source": [
    "def optimisationMulti(portfolio_input, apex_optimization_config, urgency_list = ['VERY_LOW', 'LOW', 'MEDIUM', 'HIGH', 'VERY_HIGH']):\n",
    "    results_dict_multi = {}\n",
    "    apex_optimization_config_temp = copy.deepcopy(apex_optimization_config)\n",
    "    \n",
    "    for u in urgency_list:\n",
    "        apex_optimization_config_temp['parameters']['urgency'] = u\n",
    "        apex_optimization_config_temp['parameters']['imbalance'] = .3\n",
    "        apex_optimization_config_temp['parameters']['participationRate'] = .5\n",
    "        \n",
    "        print('INFO Running urgency={0} optimization....'.format(u))\n",
    "        results_dict_multi[u] = sendApexRequestAndGetAnalytics(portfolio_input, apex_optimization_config_temp)\n",
    "        \n",
    "        print('INFO: High Level Cost estimation and % expected Completion:\\n{0}'\\\n",
    "              .format(pd.DataFrame(results_dict_multi[u]['analytics']['portfolioAnalyticsDaily'])))\n",
    "    \n",
    "    return results_dict_multi"
   ]
  },
  {
   "cell_type": "markdown",
   "metadata": {},
   "source": [
    "##### Run Optimization Across Urgencies"
   ]
  },
  {
   "cell_type": "code",
   "execution_count": null,
   "metadata": {},
   "outputs": [],
   "source": [
    "urgency_list = ['VERY_LOW', 'LOW', 'MEDIUM', 'HIGH', 'VERY_HIGH']\n",
    "results_dict_multi = optimisationMulti(portfolio_input = portfolio_input,\\\n",
    "                                       apex_optimization_config = apex_optimization_config,\\\n",
    "                                       urgency_list=urgency_list)"
   ]
  },
  {
   "cell_type": "markdown",
   "metadata": {},
   "source": [
    "#### Compare Results from Different Urgencies on Day 1:"
   ]
  },
  {
   "cell_type": "code",
   "execution_count": null,
   "metadata": {},
   "outputs": [],
   "source": [
    "ordering = ['grey', 'sky_blue', 'black', 'cyan', 'light_blue', 'dark_green']\n",
    "urgency_list = ['VERY_LOW', 'LOW', 'MEDIUM', 'HIGH', 'VERY_HIGH']\n",
    "ptAnalyticsDaily_list = []\n",
    "for u in urgency_list:\n",
    "    ptAnalyticsDaily_list.append(pd.DataFrame(results_dict_multi[u]['analytics']['portfolioAnalyticsDaily']).iloc[[0]].assign(urgency=u) )\n",
    "pd.concat(ptAnalyticsDaily_list).set_index('urgency')"
   ]
  },
  {
   "cell_type": "markdown",
   "metadata": {},
   "source": [
    "#### Visualise Optimization Results\n",
    "- Plotting 'Trade_cum_sum, Total Cost, Total Risk' against time for the chosen urgencies\n",
    "- Trade_cum_sum: Cumulative sum of the intraday trades"
   ]
  },
  {
   "cell_type": "code",
   "execution_count": null,
   "metadata": {},
   "outputs": [],
   "source": [
    "metrics_list = ['tradePercentageCumulativeSum', 'totalRiskBps', 'totalCost', 'advAveragePercentage']\n",
    "title = ['Intraday Trade', 'Risk', 'Cost', 'Participation Rate']\n",
    "ylabel = ['Trade Cum Sum %', 'Risk(bps) ', 'Cost(bps)', 'Prate(%)']\n",
    "\n",
    "plotMultiStrategyPortfolioLevelAnalytics(results_dict_multi, metrics_list, title, ylabel)"
   ]
  },
  {
   "cell_type": "markdown",
   "metadata": {},
   "source": [
    "###### Sources: Goldman Sachs, Bloomberg, Reuters, Axioma"
   ]
  },
  {
   "cell_type": "markdown",
   "metadata": {},
   "source": [
    "#### Plot the optimal Efficient Frontier - the expected Market Impact vs. Residual Risk Trade-off:"
   ]
  },
  {
   "cell_type": "code",
   "execution_count": null,
   "metadata": {},
   "outputs": [],
   "source": [
    "initial_gross = pd.DataFrame(results_dict_multi['VERY_LOW']['analytics']['portfolioAnalyticsIntraday'])['gross'].iloc[0]\n",
    "risk_cost_tradeoff = pd.concat( [\\\n",
    "    pd.DataFrame(results_dict_multi[urgency]['analytics']['portfolioAnalyticsDaily'])\\\n",
    "    [['estimatedCostBps', 'meanExpectedCostVersusBenchmark']]\\\n",
    ".assign(totalRiskBps = lambda x: x['estimatedCostBps'] - x['meanExpectedCostVersusBenchmark'])\\\n",
    ".iloc[0].rename(urgency).to_frame()\n",
    "for urgency in ['VERY_LOW', 'LOW', 'MEDIUM']], axis=1).T\n",
    "\n",
    "cmap = cm.get_cmap('Set1')\n",
    "ax = risk_cost_tradeoff.plot.scatter(x='totalRiskBps', y='meanExpectedCostVersusBenchmark',\\\n",
    "                                     title='The Example Basket Efficient Frontier',\\\n",
    "                                     colormap=cmap, c=range(len(risk_cost_tradeoff)), s=100)\n",
    "\n",
    "for k, v in risk_cost_tradeoff[['totalRiskBps', 'meanExpectedCostVersusBenchmark']].iterrows():\n",
    "    ax.annotate(k, v,\n",
    "                xytext=(10,-5), textcoords='offset points',\n",
    "                family='sans-serif', fontsize=10, color='darkslategrey')\n",
    "\n",
    "ax.plot(risk_cost_tradeoff['totalRiskBps'].values, risk_cost_tradeoff['meanExpectedCostVersusBenchmark'].values,\n",
    "       color='grey', alpha=.5)"
   ]
  },
  {
   "cell_type": "markdown",
   "metadata": {},
   "source": [
    "###### Sources: Goldman Sachs, Bloomberg, Reuters, Axioma"
   ]
  },
  {
   "cell_type": "markdown",
   "metadata": {},
   "source": [
    "# And That's IT! Find below an holistic view of our APEX platform in visual from:\n",
    "<img src= \"images/apex_box.png\">"
   ]
  },
  {
   "cell_type": "markdown",
   "metadata": {},
   "source": [
    "##### Disclaimers:\n",
    "###### Indicative Terms/Pricing Levels: This material may contain indicative terms only, including but not limited to pricing levels. There is no representation that any transaction can or could have been effected at such terms or prices. Proposed terms and conditions are for discussion purposes only. Finalized terms and conditions are subject to further discussion and negotiation.\n",
    "###### www.goldmansachs.com/disclaimer/sales-and-trading-invest-rec-disclosures.html If you are not accessing this material via Marquee ContentStream, a list of the author's investment recommendations disseminated during the preceding 12 months and the proportion of the author's recommendations that are 'buy', 'hold', 'sell' or other over the previous 12 months is available by logging into Marquee ContentStream using the link below. Alternatively, if you do not have access to Marquee ContentStream, please contact your usual GS representative who will be able to provide this information to you.\n",
    "###### Please refer to https://marquee.gs.com/studio/ for price information of corporate equity securities.\n",
    "###### Notice to Australian Investors: When this document is disseminated in Australia by Goldman Sachs & Co. LLC (\"GSCO\"), Goldman Sachs International (\"GSI\"), Goldman Sachs Bank Europe SE (\"GSBE\"), Goldman Sachs (Asia) L.L.C. (\"GSALLC\"), or Goldman Sachs (Singapore) Pte (\"GSSP\") (collectively the \"GS entities\"), this document, and any access to it, is intended only for a person that has first satisfied the GS entities that: \n",
    "###### • the person is a Sophisticated or Professional Investor for the purposes of section 708 of the Corporations Act of Australia; and \n",
    "###### • the person is a wholesale client for the purpose of section 761G of the Corporations Act of Australia. \n",
    "###### To the extent that the GS entities are providing a financial service in Australia, the GS entities are each exempt from the requirement to hold an Australian financial services licence for the financial services they provide in Australia. Each of the GS entities are regulated by a foreign regulator under foreign laws which differ from Australian laws, specifically: \n",
    "###### • GSCO is regulated by the US Securities and Exchange Commission under US laws;\n",
    "###### • GSI is authorised by the Prudential Regulation Authority and regulated by the Financial Conduct Authority and the Prudential Regulation Authority, under UK laws;\n",
    "###### • GSBE is subject to direct prudential supervision by the European Central Bank and in other respects is supervised by the German Federal Financial Supervisory Authority (Bundesanstalt für Finanzdienstleistungsaufischt, BaFin) and Deutsche Bundesbank;\n",
    "###### • GSALLC is regulated by the Hong Kong Securities and Futures Commission under Hong Kong laws; and\n",
    "###### • GSSP is regulated by the Monetary Authority of Singapore under Singapore laws.\n",
    "###### Notice to Brazilian Investors\n",
    "###### Marquee is not meant for the general public in Brazil. The services or products provided by or through Marquee, at any time, may not be offered or sold to the general public in Brazil. You have received a password granting access to Marquee exclusively due to your existing relationship with a GS business located in Brazil. The selection and engagement with any of the offered services or products through Marquee, at any time, will be carried out directly by you. Before acting to implement any chosen service or products, provided by or through Marquee you should consider, at your sole discretion, whether it is suitable for your particular circumstances and, if necessary, seek professional advice. Any steps necessary in order to implement the chosen service or product, including but not limited to remittance of funds, shall be carried out at your discretion. Accordingly, such services and products have not been and will not be publicly issued, placed, distributed, offered or negotiated in the Brazilian capital markets and, as a result, they have not been and will not be registered with the Brazilian Securities and Exchange Commission (Comissão de Valores Mobiliários), nor have they been submitted to the foregoing agency for approval. Documents relating to such services or products, as well as the information contained therein, may not be supplied to the general public in Brazil, as the offering of such services or products is not a public offering in Brazil, nor used in connection with any offer for subscription or sale of securities to the general public in Brazil.\n",
    "###### The offer of any securities mentioned in this message may not be made to the general public in Brazil. Accordingly, any such securities have not been nor will they be registered with the Brazilian Securities and Exchange Commission (Comissão de Valores Mobiliários) nor has any offer been submitted to the foregoing agency for approval. Documents relating to the offer, as well as the information contained therein, may not be supplied to the public in Brazil, as the offer is not a public offering of securities in Brazil. These terms will apply on every access to Marquee.\n",
    "###### Ouvidoria Goldman Sachs Brasil: 0800 727 5764 e/ou ouvidoriagoldmansachs@gs.com\n",
    "###### Horário de funcionamento: segunda-feira à sexta-feira (exceto feriados), das 9hs às 18hs.\n",
    "###### Ombudsman Goldman Sachs Brazil: 0800 727 5764 and / or ouvidoriagoldmansachs@gs.com\n",
    "###### Available Weekdays (except holidays), from 9 am to 6 pm.\n",
    " \n",
    "###### Note to Investors in Israel: GS is not licensed to provide investment advice or investment management services under Israeli law.\n",
    "###### Notice to Investors in Japan\n",
    "###### Marquee is made available in Japan by Goldman Sachs Japan Co., Ltd.\n",
    "\n",
    "###### 本書は情報の提供を目的としております。また、売却・購入が違法となるような法域での有価証券その他の売却若しくは購入を勧めるものでもありません。ゴールドマン・サックスは本書内の取引又はストラクチャーの勧誘を行うものではございません。これらの取引又はストラクチャーは、社内及び法規制等の承認等次第で実際にはご提供できない場合がございます。\n",
    "\n",
    "###### <適格機関投資家限定　転売制限>\n",
    "###### ゴールドマン・サックス証券株式会社が適格機関投資家のみを相手方として取得申込みの勧誘（取得勧誘）又は売付けの申込み若しくは買付けの申込みの勧誘(売付け勧誘等)を行う本有価証券には、適格機関投資家に譲渡する場合以外の譲渡が禁止される旨の制限が付されています。本有価証券は金融商品取引法第４条に基づく財務局に対する届出が行われておりません。なお、本告知はお客様によるご同意のもとに、電磁的に交付させていただいております。\n",
    "###### ＜適格機関投資家用資料＞ \n",
    "###### 本資料は、適格機関投資家のお客さまのみを対象に作成されたものです。本資料における金融商品は適格機関投資家のお客さまのみがお取引可能であり、適格機関投資家以外のお客さまからのご注文等はお受けできませんので、ご注意ください。 商号等/ゴールドマン・サックス証券株式会社 金融商品取引業者　関東財務局長（金商）第６９号 \n",
    "###### 加入協会/　日本証券業協会、一般社団法人金融先物取引業協会、一般社団法人第二種金融商品取引業協会 \n",
    "###### 本書又はその添付資料に信用格付が記載されている場合、日本格付研究所（JCR）及び格付投資情報センター（R&I）による格付は、登録信用格付業者による格付（登録格付）です。その他の格付は登録格付である旨の記載がない場合は、無登録格付です。無登録格付を投資判断に利用する前に、「無登録格付に関する説明書」（http://www.goldmansachs.com/disclaimer/ratings.html）を十分にお読みください。 \n",
    "###### If any credit ratings are contained in this material or any attachments, those that have been issued by Japan Credit Rating Agency, Ltd. (JCR) or Rating and Investment Information, Inc. (R&I) are credit ratings that have been issued by a credit rating agency registered in Japan (registered credit ratings). Other credit ratings are unregistered unless denoted as being registered. Before using unregistered credit ratings to make investment decisions, please carefully read \"Explanation Regarding Unregistered Credit Ratings\" (http://www.goldmansachs.com/disclaimer/ratings.html).\n",
    "###### Notice to Mexican Investors: Information contained herein is not meant for the general public in Mexico. The services or products provided by or through Goldman Sachs Mexico, Casa de Bolsa, S.A. de C.V. (GS Mexico) may not be offered or sold to the general public in Mexico. You have received information herein exclusively due to your existing relationship with a GS Mexico or any other Goldman Sachs business. The selection and engagement with any of the offered services or products through GS Mexico will be carried out directly by you at your own risk. Before acting to implement any chosen service or product provided by or through GS Mexico you should consider, at your sole discretion, whether it is suitable for your particular circumstances and, if necessary, seek professional advice. Information contained herein related to GS Mexico services or products, as well as any other information, shall not be considered as a product coming from research, nor it contains any recommendation to invest, not to invest, hold or sell any security and may not be supplied to the general public in Mexico.\n",
    "###### Notice to New Zealand Investors: When this document is disseminated in New Zealand by Goldman Sachs & Co. LLC (\"GSCO\") , Goldman Sachs International (\"GSI\"), Goldman Sachs Bank Europe SE (\"GSBE\"), Goldman Sachs (Asia) L.L.C. (\"GSALLC\") or Goldman Sachs (Singapore) Pte (\"GSSP\") (collectively the \"GS entities\"), this document, and any access to it, is intended only for a person that has first satisfied; the GS entities that the person is someone: \n",
    "###### (i) who is an investment business within the meaning of clause 37 of Schedule 1 of the Financial Markets Conduct Act 2013 (New Zealand) (the \"FMC Act\");\n",
    "###### (ii) who meets the investment activity criteria specified in clause 38 of Schedule 1 of the FMC Act;\n",
    "###### (iii) who is large within the meaning of clause 39 of Schedule 1 of the FMC Act; or\n",
    "###### (iv) is a government agency within the meaning of clause 40 of Schedule 1 of the FMC Act. \n",
    "###### No offer to acquire the interests is being made to you in this document. Any offer will only be made in circumstances where disclosure is not required under the Financial Markets Conducts Act 2013 or the Financial Markets Conduct Regulations 2014.\n",
    "###### Notice to Swiss Investors: This is marketing material for financial instruments or services. The information contained in this material is for general informational purposes only and does not constitute an offer, solicitation, invitation or recommendation to buy or sell any financial instruments or to provide any investment advice or service of any kind.\n",
    "###### THE INFORMATION CONTAINED IN THIS DOCUMENT DOES NOT CONSITUTE, AND IS NOT INTENDED TO CONSTITUTE, A PUBLIC OFFER OF SECURITIES IN THE UNITED ARAB EMIRATES IN ACCORDANCE WITH THE COMMERCIAL COMPANIES LAW (FEDERAL LAW NO. 2 OF 2015), ESCA BOARD OF DIRECTORS' DECISION NO. (9/R.M.) OF 2016, ESCA CHAIRMAN DECISION NO 3/R.M. OF 2017 CONCERNING PROMOTING AND INTRODUCING REGULATIONS OR OTHERWISE UNDER THE LAWS OF THE UNITED ARAB EMIRATES. ACCORDINGLY, THE INTERESTS IN THE SECURITIES MAY NOT BE OFFERED TO THE PUBLIC IN THE UAE (INCLUDING THE DUBAI INTERNATIONAL FINANCIAL CENTRE AND THE ABU DHABI GLOBAL MARKET). THIS DOCUMENT HAS NOT BEEN APPROVED BY, OR FILED WITH THE CENTRAL BANK OF THE UNITED ARAB EMIRATES, THE SECURITIES AND COMMODITIES AUTHORITY, THE DUBAI FINANCIAL SERVICES AUTHORITY, THE FINANCIAL SERVICES REGULATORY AUTHORITY OR ANY OTHER RELEVANT LICENSING AUTHORITIES IN THE UNITED ARAB EMIRATES. IF YOU DO NOT UNDERSTAND THE CONTENTS OF THIS DOCUMENT, YOU SHOULD CONSULT WITH A FINANCIAL ADVISOR. THIS DOCUMENT IS PROVIDED TO THE RECIPIENT ONLY AND SHOULD NOT BE PROVIDED TO OR RELIED ON BY ANY OTHER PERSON."
   ]
  }
 ],
 "metadata": {
  "kernelspec": {
   "display_name": "Python 3",
   "language": "python",
   "name": "python3"
  },
  "language_info": {
   "codemirror_mode": {
    "name": "ipython",
    "version": 3
   },
   "file_extension": ".py",
   "mimetype": "text/x-python",
   "name": "python",
   "nbconvert_exporter": "python",
   "pygments_lexer": "ipython3",
   "version": "3.7.4"
  }
 },
 "nbformat": 4,
 "nbformat_minor": 4
}
